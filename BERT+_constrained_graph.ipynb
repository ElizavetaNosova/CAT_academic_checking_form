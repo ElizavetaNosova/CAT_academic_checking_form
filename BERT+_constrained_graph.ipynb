{
  "nbformat": 4,
  "nbformat_minor": 0,
  "metadata": {
    "colab": {
      "name": "BERT+ constrained graph",
      "provenance": [],
      "collapsed_sections": [],
      "toc_visible": true,
      "include_colab_link": true
    },
    "kernelspec": {
      "display_name": "Python 3",
      "language": "python",
      "name": "python3"
    },
    "widgets": {
      "application/vnd.jupyter.widget-state+json": {
        "3d47b7105cf8480f8274bfb447e8046b": {
          "model_module": "@jupyter-widgets/controls",
          "model_name": "HBoxModel",
          "state": {
            "_view_name": "HBoxView",
            "_dom_classes": [],
            "_model_name": "HBoxModel",
            "_view_module": "@jupyter-widgets/controls",
            "_model_module_version": "1.5.0",
            "_view_count": null,
            "_view_module_version": "1.5.0",
            "box_style": "",
            "layout": "IPY_MODEL_51047c930eb94714808adafb4d5fd6ac",
            "_model_module": "@jupyter-widgets/controls",
            "children": [
              "IPY_MODEL_36d6bb01ee9e440ab00301507cad602e",
              "IPY_MODEL_6ae9e61f9a7848d99a9b2861e412aa18"
            ]
          }
        },
        "51047c930eb94714808adafb4d5fd6ac": {
          "model_module": "@jupyter-widgets/base",
          "model_name": "LayoutModel",
          "state": {
            "_view_name": "LayoutView",
            "grid_template_rows": null,
            "right": null,
            "justify_content": null,
            "_view_module": "@jupyter-widgets/base",
            "overflow": null,
            "_model_module_version": "1.2.0",
            "_view_count": null,
            "flex_flow": null,
            "width": null,
            "min_width": null,
            "border": null,
            "align_items": null,
            "bottom": null,
            "_model_module": "@jupyter-widgets/base",
            "top": null,
            "grid_column": null,
            "overflow_y": null,
            "overflow_x": null,
            "grid_auto_flow": null,
            "grid_area": null,
            "grid_template_columns": null,
            "flex": null,
            "_model_name": "LayoutModel",
            "justify_items": null,
            "grid_row": null,
            "max_height": null,
            "align_content": null,
            "visibility": null,
            "align_self": null,
            "height": null,
            "min_height": null,
            "padding": null,
            "grid_auto_rows": null,
            "grid_gap": null,
            "max_width": null,
            "order": null,
            "_view_module_version": "1.2.0",
            "grid_template_areas": null,
            "object_position": null,
            "object_fit": null,
            "grid_auto_columns": null,
            "margin": null,
            "display": null,
            "left": null
          }
        },
        "36d6bb01ee9e440ab00301507cad602e": {
          "model_module": "@jupyter-widgets/controls",
          "model_name": "FloatProgressModel",
          "state": {
            "_view_name": "ProgressView",
            "style": "IPY_MODEL_e0cd18542ff44727b898a6cce3e185b5",
            "_dom_classes": [],
            "description": "Downloading: 100%",
            "_model_name": "FloatProgressModel",
            "bar_style": "success",
            "max": 1649718,
            "_view_module": "@jupyter-widgets/controls",
            "_model_module_version": "1.5.0",
            "value": 1649718,
            "_view_count": null,
            "_view_module_version": "1.5.0",
            "orientation": "horizontal",
            "min": 0,
            "description_tooltip": null,
            "_model_module": "@jupyter-widgets/controls",
            "layout": "IPY_MODEL_5a51b37506d942368ae2e4e8287700e3"
          }
        },
        "6ae9e61f9a7848d99a9b2861e412aa18": {
          "model_module": "@jupyter-widgets/controls",
          "model_name": "HTMLModel",
          "state": {
            "_view_name": "HTMLView",
            "style": "IPY_MODEL_6c0feef74a5a441bbf95e8865730e8a2",
            "_dom_classes": [],
            "description": "",
            "_model_name": "HTMLModel",
            "placeholder": "​",
            "_view_module": "@jupyter-widgets/controls",
            "_model_module_version": "1.5.0",
            "value": " 1.65M/1.65M [00:00&lt;00:00, 3.90MB/s]",
            "_view_count": null,
            "_view_module_version": "1.5.0",
            "description_tooltip": null,
            "_model_module": "@jupyter-widgets/controls",
            "layout": "IPY_MODEL_ddd3cb7382094a7f88083041b87ac72d"
          }
        },
        "e0cd18542ff44727b898a6cce3e185b5": {
          "model_module": "@jupyter-widgets/controls",
          "model_name": "ProgressStyleModel",
          "state": {
            "_view_name": "StyleView",
            "_model_name": "ProgressStyleModel",
            "description_width": "initial",
            "_view_module": "@jupyter-widgets/base",
            "_model_module_version": "1.5.0",
            "_view_count": null,
            "_view_module_version": "1.2.0",
            "bar_color": null,
            "_model_module": "@jupyter-widgets/controls"
          }
        },
        "5a51b37506d942368ae2e4e8287700e3": {
          "model_module": "@jupyter-widgets/base",
          "model_name": "LayoutModel",
          "state": {
            "_view_name": "LayoutView",
            "grid_template_rows": null,
            "right": null,
            "justify_content": null,
            "_view_module": "@jupyter-widgets/base",
            "overflow": null,
            "_model_module_version": "1.2.0",
            "_view_count": null,
            "flex_flow": null,
            "width": null,
            "min_width": null,
            "border": null,
            "align_items": null,
            "bottom": null,
            "_model_module": "@jupyter-widgets/base",
            "top": null,
            "grid_column": null,
            "overflow_y": null,
            "overflow_x": null,
            "grid_auto_flow": null,
            "grid_area": null,
            "grid_template_columns": null,
            "flex": null,
            "_model_name": "LayoutModel",
            "justify_items": null,
            "grid_row": null,
            "max_height": null,
            "align_content": null,
            "visibility": null,
            "align_self": null,
            "height": null,
            "min_height": null,
            "padding": null,
            "grid_auto_rows": null,
            "grid_gap": null,
            "max_width": null,
            "order": null,
            "_view_module_version": "1.2.0",
            "grid_template_areas": null,
            "object_position": null,
            "object_fit": null,
            "grid_auto_columns": null,
            "margin": null,
            "display": null,
            "left": null
          }
        },
        "6c0feef74a5a441bbf95e8865730e8a2": {
          "model_module": "@jupyter-widgets/controls",
          "model_name": "DescriptionStyleModel",
          "state": {
            "_view_name": "StyleView",
            "_model_name": "DescriptionStyleModel",
            "description_width": "",
            "_view_module": "@jupyter-widgets/base",
            "_model_module_version": "1.5.0",
            "_view_count": null,
            "_view_module_version": "1.2.0",
            "_model_module": "@jupyter-widgets/controls"
          }
        },
        "ddd3cb7382094a7f88083041b87ac72d": {
          "model_module": "@jupyter-widgets/base",
          "model_name": "LayoutModel",
          "state": {
            "_view_name": "LayoutView",
            "grid_template_rows": null,
            "right": null,
            "justify_content": null,
            "_view_module": "@jupyter-widgets/base",
            "overflow": null,
            "_model_module_version": "1.2.0",
            "_view_count": null,
            "flex_flow": null,
            "width": null,
            "min_width": null,
            "border": null,
            "align_items": null,
            "bottom": null,
            "_model_module": "@jupyter-widgets/base",
            "top": null,
            "grid_column": null,
            "overflow_y": null,
            "overflow_x": null,
            "grid_auto_flow": null,
            "grid_area": null,
            "grid_template_columns": null,
            "flex": null,
            "_model_name": "LayoutModel",
            "justify_items": null,
            "grid_row": null,
            "max_height": null,
            "align_content": null,
            "visibility": null,
            "align_self": null,
            "height": null,
            "min_height": null,
            "padding": null,
            "grid_auto_rows": null,
            "grid_gap": null,
            "max_width": null,
            "order": null,
            "_view_module_version": "1.2.0",
            "grid_template_areas": null,
            "object_position": null,
            "object_fit": null,
            "grid_auto_columns": null,
            "margin": null,
            "display": null,
            "left": null
          }
        },
        "0f94028708644fd8b49ebf20cb08b0f5": {
          "model_module": "@jupyter-widgets/controls",
          "model_name": "HBoxModel",
          "state": {
            "_view_name": "HBoxView",
            "_dom_classes": [],
            "_model_name": "HBoxModel",
            "_view_module": "@jupyter-widgets/controls",
            "_model_module_version": "1.5.0",
            "_view_count": null,
            "_view_module_version": "1.5.0",
            "box_style": "",
            "layout": "IPY_MODEL_639d661ca5cf471f91ca22eda4ae3c52",
            "_model_module": "@jupyter-widgets/controls",
            "children": [
              "IPY_MODEL_3be0f7f6eaa04f6f8b6f5fef8e75a162",
              "IPY_MODEL_acb7926db34341e6b01b316602290c9b"
            ]
          }
        },
        "639d661ca5cf471f91ca22eda4ae3c52": {
          "model_module": "@jupyter-widgets/base",
          "model_name": "LayoutModel",
          "state": {
            "_view_name": "LayoutView",
            "grid_template_rows": null,
            "right": null,
            "justify_content": null,
            "_view_module": "@jupyter-widgets/base",
            "overflow": null,
            "_model_module_version": "1.2.0",
            "_view_count": null,
            "flex_flow": null,
            "width": null,
            "min_width": null,
            "border": null,
            "align_items": null,
            "bottom": null,
            "_model_module": "@jupyter-widgets/base",
            "top": null,
            "grid_column": null,
            "overflow_y": null,
            "overflow_x": null,
            "grid_auto_flow": null,
            "grid_area": null,
            "grid_template_columns": null,
            "flex": null,
            "_model_name": "LayoutModel",
            "justify_items": null,
            "grid_row": null,
            "max_height": null,
            "align_content": null,
            "visibility": null,
            "align_self": null,
            "height": null,
            "min_height": null,
            "padding": null,
            "grid_auto_rows": null,
            "grid_gap": null,
            "max_width": null,
            "order": null,
            "_view_module_version": "1.2.0",
            "grid_template_areas": null,
            "object_position": null,
            "object_fit": null,
            "grid_auto_columns": null,
            "margin": null,
            "display": null,
            "left": null
          }
        },
        "3be0f7f6eaa04f6f8b6f5fef8e75a162": {
          "model_module": "@jupyter-widgets/controls",
          "model_name": "FloatProgressModel",
          "state": {
            "_view_name": "ProgressView",
            "style": "IPY_MODEL_26c35500e8f1426f8e8e2b724e904144",
            "_dom_classes": [],
            "description": "Downloading: 100%",
            "_model_name": "FloatProgressModel",
            "bar_style": "success",
            "max": 112,
            "_view_module": "@jupyter-widgets/controls",
            "_model_module_version": "1.5.0",
            "value": 112,
            "_view_count": null,
            "_view_module_version": "1.5.0",
            "orientation": "horizontal",
            "min": 0,
            "description_tooltip": null,
            "_model_module": "@jupyter-widgets/controls",
            "layout": "IPY_MODEL_dead3d8100c54fc4bf0a5fb3266764a5"
          }
        },
        "acb7926db34341e6b01b316602290c9b": {
          "model_module": "@jupyter-widgets/controls",
          "model_name": "HTMLModel",
          "state": {
            "_view_name": "HTMLView",
            "style": "IPY_MODEL_fd86ca61e3fc4300814ffd09e6bd41be",
            "_dom_classes": [],
            "description": "",
            "_model_name": "HTMLModel",
            "placeholder": "​",
            "_view_module": "@jupyter-widgets/controls",
            "_model_module_version": "1.5.0",
            "value": " 112/112 [00:00&lt;00:00, 244B/s]",
            "_view_count": null,
            "_view_module_version": "1.5.0",
            "description_tooltip": null,
            "_model_module": "@jupyter-widgets/controls",
            "layout": "IPY_MODEL_fe7422ec25ce40dfb64c12346fbb9e3e"
          }
        },
        "26c35500e8f1426f8e8e2b724e904144": {
          "model_module": "@jupyter-widgets/controls",
          "model_name": "ProgressStyleModel",
          "state": {
            "_view_name": "StyleView",
            "_model_name": "ProgressStyleModel",
            "description_width": "initial",
            "_view_module": "@jupyter-widgets/base",
            "_model_module_version": "1.5.0",
            "_view_count": null,
            "_view_module_version": "1.2.0",
            "bar_color": null,
            "_model_module": "@jupyter-widgets/controls"
          }
        },
        "dead3d8100c54fc4bf0a5fb3266764a5": {
          "model_module": "@jupyter-widgets/base",
          "model_name": "LayoutModel",
          "state": {
            "_view_name": "LayoutView",
            "grid_template_rows": null,
            "right": null,
            "justify_content": null,
            "_view_module": "@jupyter-widgets/base",
            "overflow": null,
            "_model_module_version": "1.2.0",
            "_view_count": null,
            "flex_flow": null,
            "width": null,
            "min_width": null,
            "border": null,
            "align_items": null,
            "bottom": null,
            "_model_module": "@jupyter-widgets/base",
            "top": null,
            "grid_column": null,
            "overflow_y": null,
            "overflow_x": null,
            "grid_auto_flow": null,
            "grid_area": null,
            "grid_template_columns": null,
            "flex": null,
            "_model_name": "LayoutModel",
            "justify_items": null,
            "grid_row": null,
            "max_height": null,
            "align_content": null,
            "visibility": null,
            "align_self": null,
            "height": null,
            "min_height": null,
            "padding": null,
            "grid_auto_rows": null,
            "grid_gap": null,
            "max_width": null,
            "order": null,
            "_view_module_version": "1.2.0",
            "grid_template_areas": null,
            "object_position": null,
            "object_fit": null,
            "grid_auto_columns": null,
            "margin": null,
            "display": null,
            "left": null
          }
        },
        "fd86ca61e3fc4300814ffd09e6bd41be": {
          "model_module": "@jupyter-widgets/controls",
          "model_name": "DescriptionStyleModel",
          "state": {
            "_view_name": "StyleView",
            "_model_name": "DescriptionStyleModel",
            "description_width": "",
            "_view_module": "@jupyter-widgets/base",
            "_model_module_version": "1.5.0",
            "_view_count": null,
            "_view_module_version": "1.2.0",
            "_model_module": "@jupyter-widgets/controls"
          }
        },
        "fe7422ec25ce40dfb64c12346fbb9e3e": {
          "model_module": "@jupyter-widgets/base",
          "model_name": "LayoutModel",
          "state": {
            "_view_name": "LayoutView",
            "grid_template_rows": null,
            "right": null,
            "justify_content": null,
            "_view_module": "@jupyter-widgets/base",
            "overflow": null,
            "_model_module_version": "1.2.0",
            "_view_count": null,
            "flex_flow": null,
            "width": null,
            "min_width": null,
            "border": null,
            "align_items": null,
            "bottom": null,
            "_model_module": "@jupyter-widgets/base",
            "top": null,
            "grid_column": null,
            "overflow_y": null,
            "overflow_x": null,
            "grid_auto_flow": null,
            "grid_area": null,
            "grid_template_columns": null,
            "flex": null,
            "_model_name": "LayoutModel",
            "justify_items": null,
            "grid_row": null,
            "max_height": null,
            "align_content": null,
            "visibility": null,
            "align_self": null,
            "height": null,
            "min_height": null,
            "padding": null,
            "grid_auto_rows": null,
            "grid_gap": null,
            "max_width": null,
            "order": null,
            "_view_module_version": "1.2.0",
            "grid_template_areas": null,
            "object_position": null,
            "object_fit": null,
            "grid_auto_columns": null,
            "margin": null,
            "display": null,
            "left": null
          }
        },
        "e8ecdebe0f294a68b425a4e1ebe5118f": {
          "model_module": "@jupyter-widgets/controls",
          "model_name": "HBoxModel",
          "state": {
            "_view_name": "HBoxView",
            "_dom_classes": [],
            "_model_name": "HBoxModel",
            "_view_module": "@jupyter-widgets/controls",
            "_model_module_version": "1.5.0",
            "_view_count": null,
            "_view_module_version": "1.5.0",
            "box_style": "",
            "layout": "IPY_MODEL_e54c88965d7c43b1b4be8b3d85248bd8",
            "_model_module": "@jupyter-widgets/controls",
            "children": [
              "IPY_MODEL_a5b1994d958846b69d907efb433d80bd",
              "IPY_MODEL_44e85c59c30a4d9fa1abed23b2d27cab"
            ]
          }
        },
        "e54c88965d7c43b1b4be8b3d85248bd8": {
          "model_module": "@jupyter-widgets/base",
          "model_name": "LayoutModel",
          "state": {
            "_view_name": "LayoutView",
            "grid_template_rows": null,
            "right": null,
            "justify_content": null,
            "_view_module": "@jupyter-widgets/base",
            "overflow": null,
            "_model_module_version": "1.2.0",
            "_view_count": null,
            "flex_flow": null,
            "width": null,
            "min_width": null,
            "border": null,
            "align_items": null,
            "bottom": null,
            "_model_module": "@jupyter-widgets/base",
            "top": null,
            "grid_column": null,
            "overflow_y": null,
            "overflow_x": null,
            "grid_auto_flow": null,
            "grid_area": null,
            "grid_template_columns": null,
            "flex": null,
            "_model_name": "LayoutModel",
            "justify_items": null,
            "grid_row": null,
            "max_height": null,
            "align_content": null,
            "visibility": null,
            "align_self": null,
            "height": null,
            "min_height": null,
            "padding": null,
            "grid_auto_rows": null,
            "grid_gap": null,
            "max_width": null,
            "order": null,
            "_view_module_version": "1.2.0",
            "grid_template_areas": null,
            "object_position": null,
            "object_fit": null,
            "grid_auto_columns": null,
            "margin": null,
            "display": null,
            "left": null
          }
        },
        "a5b1994d958846b69d907efb433d80bd": {
          "model_module": "@jupyter-widgets/controls",
          "model_name": "FloatProgressModel",
          "state": {
            "_view_name": "ProgressView",
            "style": "IPY_MODEL_12eeae12176a44ac8697e90d8c50483f",
            "_dom_classes": [],
            "description": "Downloading: 100%",
            "_model_name": "FloatProgressModel",
            "bar_style": "success",
            "max": 24,
            "_view_module": "@jupyter-widgets/controls",
            "_model_module_version": "1.5.0",
            "value": 24,
            "_view_count": null,
            "_view_module_version": "1.5.0",
            "orientation": "horizontal",
            "min": 0,
            "description_tooltip": null,
            "_model_module": "@jupyter-widgets/controls",
            "layout": "IPY_MODEL_7c0dbd639ea248abb3e4c8815fbf6ea1"
          }
        },
        "44e85c59c30a4d9fa1abed23b2d27cab": {
          "model_module": "@jupyter-widgets/controls",
          "model_name": "HTMLModel",
          "state": {
            "_view_name": "HTMLView",
            "style": "IPY_MODEL_76c4105cbb2d428d9cdb0a532e0bf20b",
            "_dom_classes": [],
            "description": "",
            "_model_name": "HTMLModel",
            "placeholder": "​",
            "_view_module": "@jupyter-widgets/controls",
            "_model_module_version": "1.5.0",
            "value": " 24.0/24.0 [00:00&lt;00:00, 92.2B/s]",
            "_view_count": null,
            "_view_module_version": "1.5.0",
            "description_tooltip": null,
            "_model_module": "@jupyter-widgets/controls",
            "layout": "IPY_MODEL_c49c31b6333249ee892e0c8be25215fd"
          }
        },
        "12eeae12176a44ac8697e90d8c50483f": {
          "model_module": "@jupyter-widgets/controls",
          "model_name": "ProgressStyleModel",
          "state": {
            "_view_name": "StyleView",
            "_model_name": "ProgressStyleModel",
            "description_width": "initial",
            "_view_module": "@jupyter-widgets/base",
            "_model_module_version": "1.5.0",
            "_view_count": null,
            "_view_module_version": "1.2.0",
            "bar_color": null,
            "_model_module": "@jupyter-widgets/controls"
          }
        },
        "7c0dbd639ea248abb3e4c8815fbf6ea1": {
          "model_module": "@jupyter-widgets/base",
          "model_name": "LayoutModel",
          "state": {
            "_view_name": "LayoutView",
            "grid_template_rows": null,
            "right": null,
            "justify_content": null,
            "_view_module": "@jupyter-widgets/base",
            "overflow": null,
            "_model_module_version": "1.2.0",
            "_view_count": null,
            "flex_flow": null,
            "width": null,
            "min_width": null,
            "border": null,
            "align_items": null,
            "bottom": null,
            "_model_module": "@jupyter-widgets/base",
            "top": null,
            "grid_column": null,
            "overflow_y": null,
            "overflow_x": null,
            "grid_auto_flow": null,
            "grid_area": null,
            "grid_template_columns": null,
            "flex": null,
            "_model_name": "LayoutModel",
            "justify_items": null,
            "grid_row": null,
            "max_height": null,
            "align_content": null,
            "visibility": null,
            "align_self": null,
            "height": null,
            "min_height": null,
            "padding": null,
            "grid_auto_rows": null,
            "grid_gap": null,
            "max_width": null,
            "order": null,
            "_view_module_version": "1.2.0",
            "grid_template_areas": null,
            "object_position": null,
            "object_fit": null,
            "grid_auto_columns": null,
            "margin": null,
            "display": null,
            "left": null
          }
        },
        "76c4105cbb2d428d9cdb0a532e0bf20b": {
          "model_module": "@jupyter-widgets/controls",
          "model_name": "DescriptionStyleModel",
          "state": {
            "_view_name": "StyleView",
            "_model_name": "DescriptionStyleModel",
            "description_width": "",
            "_view_module": "@jupyter-widgets/base",
            "_model_module_version": "1.5.0",
            "_view_count": null,
            "_view_module_version": "1.2.0",
            "_model_module": "@jupyter-widgets/controls"
          }
        },
        "c49c31b6333249ee892e0c8be25215fd": {
          "model_module": "@jupyter-widgets/base",
          "model_name": "LayoutModel",
          "state": {
            "_view_name": "LayoutView",
            "grid_template_rows": null,
            "right": null,
            "justify_content": null,
            "_view_module": "@jupyter-widgets/base",
            "overflow": null,
            "_model_module_version": "1.2.0",
            "_view_count": null,
            "flex_flow": null,
            "width": null,
            "min_width": null,
            "border": null,
            "align_items": null,
            "bottom": null,
            "_model_module": "@jupyter-widgets/base",
            "top": null,
            "grid_column": null,
            "overflow_y": null,
            "overflow_x": null,
            "grid_auto_flow": null,
            "grid_area": null,
            "grid_template_columns": null,
            "flex": null,
            "_model_name": "LayoutModel",
            "justify_items": null,
            "grid_row": null,
            "max_height": null,
            "align_content": null,
            "visibility": null,
            "align_self": null,
            "height": null,
            "min_height": null,
            "padding": null,
            "grid_auto_rows": null,
            "grid_gap": null,
            "max_width": null,
            "order": null,
            "_view_module_version": "1.2.0",
            "grid_template_areas": null,
            "object_position": null,
            "object_fit": null,
            "grid_auto_columns": null,
            "margin": null,
            "display": null,
            "left": null
          }
        },
        "f9c4f680f82a4a609ede957db15946de": {
          "model_module": "@jupyter-widgets/controls",
          "model_name": "HBoxModel",
          "state": {
            "_view_name": "HBoxView",
            "_dom_classes": [],
            "_model_name": "HBoxModel",
            "_view_module": "@jupyter-widgets/controls",
            "_model_module_version": "1.5.0",
            "_view_count": null,
            "_view_module_version": "1.5.0",
            "box_style": "",
            "layout": "IPY_MODEL_0687050d55e942bf9c33d223ac5d7e16",
            "_model_module": "@jupyter-widgets/controls",
            "children": [
              "IPY_MODEL_1bbba8da9e55429cb2a1303f4d95260a",
              "IPY_MODEL_53e2bfa618f7420f8a3e7fc66059c62b"
            ]
          }
        },
        "0687050d55e942bf9c33d223ac5d7e16": {
          "model_module": "@jupyter-widgets/base",
          "model_name": "LayoutModel",
          "state": {
            "_view_name": "LayoutView",
            "grid_template_rows": null,
            "right": null,
            "justify_content": null,
            "_view_module": "@jupyter-widgets/base",
            "overflow": null,
            "_model_module_version": "1.2.0",
            "_view_count": null,
            "flex_flow": null,
            "width": null,
            "min_width": null,
            "border": null,
            "align_items": null,
            "bottom": null,
            "_model_module": "@jupyter-widgets/base",
            "top": null,
            "grid_column": null,
            "overflow_y": null,
            "overflow_x": null,
            "grid_auto_flow": null,
            "grid_area": null,
            "grid_template_columns": null,
            "flex": null,
            "_model_name": "LayoutModel",
            "justify_items": null,
            "grid_row": null,
            "max_height": null,
            "align_content": null,
            "visibility": null,
            "align_self": null,
            "height": null,
            "min_height": null,
            "padding": null,
            "grid_auto_rows": null,
            "grid_gap": null,
            "max_width": null,
            "order": null,
            "_view_module_version": "1.2.0",
            "grid_template_areas": null,
            "object_position": null,
            "object_fit": null,
            "grid_auto_columns": null,
            "margin": null,
            "display": null,
            "left": null
          }
        },
        "1bbba8da9e55429cb2a1303f4d95260a": {
          "model_module": "@jupyter-widgets/controls",
          "model_name": "FloatProgressModel",
          "state": {
            "_view_name": "ProgressView",
            "style": "IPY_MODEL_bd8d8142be714481adb0cf45cae1c268",
            "_dom_classes": [],
            "description": "Downloading: 100%",
            "_model_name": "FloatProgressModel",
            "bar_style": "success",
            "max": 642,
            "_view_module": "@jupyter-widgets/controls",
            "_model_module_version": "1.5.0",
            "value": 642,
            "_view_count": null,
            "_view_module_version": "1.5.0",
            "orientation": "horizontal",
            "min": 0,
            "description_tooltip": null,
            "_model_module": "@jupyter-widgets/controls",
            "layout": "IPY_MODEL_9c0acc5a22a34860bfc8fb09448b4a94"
          }
        },
        "53e2bfa618f7420f8a3e7fc66059c62b": {
          "model_module": "@jupyter-widgets/controls",
          "model_name": "HTMLModel",
          "state": {
            "_view_name": "HTMLView",
            "style": "IPY_MODEL_c7141a0f5ab64f13a948ca788766980f",
            "_dom_classes": [],
            "description": "",
            "_model_name": "HTMLModel",
            "placeholder": "​",
            "_view_module": "@jupyter-widgets/controls",
            "_model_module_version": "1.5.0",
            "value": " 642/642 [00:01&lt;00:00, 556B/s]",
            "_view_count": null,
            "_view_module_version": "1.5.0",
            "description_tooltip": null,
            "_model_module": "@jupyter-widgets/controls",
            "layout": "IPY_MODEL_ec9e798dc5de4b31a4bb174c9aff5945"
          }
        },
        "bd8d8142be714481adb0cf45cae1c268": {
          "model_module": "@jupyter-widgets/controls",
          "model_name": "ProgressStyleModel",
          "state": {
            "_view_name": "StyleView",
            "_model_name": "ProgressStyleModel",
            "description_width": "initial",
            "_view_module": "@jupyter-widgets/base",
            "_model_module_version": "1.5.0",
            "_view_count": null,
            "_view_module_version": "1.2.0",
            "bar_color": null,
            "_model_module": "@jupyter-widgets/controls"
          }
        },
        "9c0acc5a22a34860bfc8fb09448b4a94": {
          "model_module": "@jupyter-widgets/base",
          "model_name": "LayoutModel",
          "state": {
            "_view_name": "LayoutView",
            "grid_template_rows": null,
            "right": null,
            "justify_content": null,
            "_view_module": "@jupyter-widgets/base",
            "overflow": null,
            "_model_module_version": "1.2.0",
            "_view_count": null,
            "flex_flow": null,
            "width": null,
            "min_width": null,
            "border": null,
            "align_items": null,
            "bottom": null,
            "_model_module": "@jupyter-widgets/base",
            "top": null,
            "grid_column": null,
            "overflow_y": null,
            "overflow_x": null,
            "grid_auto_flow": null,
            "grid_area": null,
            "grid_template_columns": null,
            "flex": null,
            "_model_name": "LayoutModel",
            "justify_items": null,
            "grid_row": null,
            "max_height": null,
            "align_content": null,
            "visibility": null,
            "align_self": null,
            "height": null,
            "min_height": null,
            "padding": null,
            "grid_auto_rows": null,
            "grid_gap": null,
            "max_width": null,
            "order": null,
            "_view_module_version": "1.2.0",
            "grid_template_areas": null,
            "object_position": null,
            "object_fit": null,
            "grid_auto_columns": null,
            "margin": null,
            "display": null,
            "left": null
          }
        },
        "c7141a0f5ab64f13a948ca788766980f": {
          "model_module": "@jupyter-widgets/controls",
          "model_name": "DescriptionStyleModel",
          "state": {
            "_view_name": "StyleView",
            "_model_name": "DescriptionStyleModel",
            "description_width": "",
            "_view_module": "@jupyter-widgets/base",
            "_model_module_version": "1.5.0",
            "_view_count": null,
            "_view_module_version": "1.2.0",
            "_model_module": "@jupyter-widgets/controls"
          }
        },
        "ec9e798dc5de4b31a4bb174c9aff5945": {
          "model_module": "@jupyter-widgets/base",
          "model_name": "LayoutModel",
          "state": {
            "_view_name": "LayoutView",
            "grid_template_rows": null,
            "right": null,
            "justify_content": null,
            "_view_module": "@jupyter-widgets/base",
            "overflow": null,
            "_model_module_version": "1.2.0",
            "_view_count": null,
            "flex_flow": null,
            "width": null,
            "min_width": null,
            "border": null,
            "align_items": null,
            "bottom": null,
            "_model_module": "@jupyter-widgets/base",
            "top": null,
            "grid_column": null,
            "overflow_y": null,
            "overflow_x": null,
            "grid_auto_flow": null,
            "grid_area": null,
            "grid_template_columns": null,
            "flex": null,
            "_model_name": "LayoutModel",
            "justify_items": null,
            "grid_row": null,
            "max_height": null,
            "align_content": null,
            "visibility": null,
            "align_self": null,
            "height": null,
            "min_height": null,
            "padding": null,
            "grid_auto_rows": null,
            "grid_gap": null,
            "max_width": null,
            "order": null,
            "_view_module_version": "1.2.0",
            "grid_template_areas": null,
            "object_position": null,
            "object_fit": null,
            "grid_auto_columns": null,
            "margin": null,
            "display": null,
            "left": null
          }
        },
        "a1baa88ecf724ff8bb2a241586ed9e65": {
          "model_module": "@jupyter-widgets/controls",
          "model_name": "HBoxModel",
          "state": {
            "_view_name": "HBoxView",
            "_dom_classes": [],
            "_model_name": "HBoxModel",
            "_view_module": "@jupyter-widgets/controls",
            "_model_module_version": "1.5.0",
            "_view_count": null,
            "_view_module_version": "1.5.0",
            "box_style": "",
            "layout": "IPY_MODEL_6d11a3c409cb4a209c48fc030717fc53",
            "_model_module": "@jupyter-widgets/controls",
            "children": [
              "IPY_MODEL_d3e41e785ca747c1a3dc7d0b80c69cf4",
              "IPY_MODEL_9c168a806a98488dbd26d404b4aef1d4"
            ]
          }
        },
        "6d11a3c409cb4a209c48fc030717fc53": {
          "model_module": "@jupyter-widgets/base",
          "model_name": "LayoutModel",
          "state": {
            "_view_name": "LayoutView",
            "grid_template_rows": null,
            "right": null,
            "justify_content": null,
            "_view_module": "@jupyter-widgets/base",
            "overflow": null,
            "_model_module_version": "1.2.0",
            "_view_count": null,
            "flex_flow": null,
            "width": null,
            "min_width": null,
            "border": null,
            "align_items": null,
            "bottom": null,
            "_model_module": "@jupyter-widgets/base",
            "top": null,
            "grid_column": null,
            "overflow_y": null,
            "overflow_x": null,
            "grid_auto_flow": null,
            "grid_area": null,
            "grid_template_columns": null,
            "flex": null,
            "_model_name": "LayoutModel",
            "justify_items": null,
            "grid_row": null,
            "max_height": null,
            "align_content": null,
            "visibility": null,
            "align_self": null,
            "height": null,
            "min_height": null,
            "padding": null,
            "grid_auto_rows": null,
            "grid_gap": null,
            "max_width": null,
            "order": null,
            "_view_module_version": "1.2.0",
            "grid_template_areas": null,
            "object_position": null,
            "object_fit": null,
            "grid_auto_columns": null,
            "margin": null,
            "display": null,
            "left": null
          }
        },
        "d3e41e785ca747c1a3dc7d0b80c69cf4": {
          "model_module": "@jupyter-widgets/controls",
          "model_name": "FloatProgressModel",
          "state": {
            "_view_name": "ProgressView",
            "style": "IPY_MODEL_fd11ce09f4e5410e9c2d024db5e9bbd4",
            "_dom_classes": [],
            "description": "Downloading: 100%",
            "_model_name": "FloatProgressModel",
            "bar_style": "success",
            "max": 711456784,
            "_view_module": "@jupyter-widgets/controls",
            "_model_module_version": "1.5.0",
            "value": 711456784,
            "_view_count": null,
            "_view_module_version": "1.5.0",
            "orientation": "horizontal",
            "min": 0,
            "description_tooltip": null,
            "_model_module": "@jupyter-widgets/controls",
            "layout": "IPY_MODEL_4760f47d475c4250815bc47577a18255"
          }
        },
        "9c168a806a98488dbd26d404b4aef1d4": {
          "model_module": "@jupyter-widgets/controls",
          "model_name": "HTMLModel",
          "state": {
            "_view_name": "HTMLView",
            "style": "IPY_MODEL_42bbfc99b737450dac8fa021fbaf9e43",
            "_dom_classes": [],
            "description": "",
            "_model_name": "HTMLModel",
            "placeholder": "​",
            "_view_module": "@jupyter-widgets/controls",
            "_model_module_version": "1.5.0",
            "value": " 711M/711M [00:59&lt;00:00, 11.9MB/s]",
            "_view_count": null,
            "_view_module_version": "1.5.0",
            "description_tooltip": null,
            "_model_module": "@jupyter-widgets/controls",
            "layout": "IPY_MODEL_df2bd60797e44371ab900414d7d55970"
          }
        },
        "fd11ce09f4e5410e9c2d024db5e9bbd4": {
          "model_module": "@jupyter-widgets/controls",
          "model_name": "ProgressStyleModel",
          "state": {
            "_view_name": "StyleView",
            "_model_name": "ProgressStyleModel",
            "description_width": "initial",
            "_view_module": "@jupyter-widgets/base",
            "_model_module_version": "1.5.0",
            "_view_count": null,
            "_view_module_version": "1.2.0",
            "bar_color": null,
            "_model_module": "@jupyter-widgets/controls"
          }
        },
        "4760f47d475c4250815bc47577a18255": {
          "model_module": "@jupyter-widgets/base",
          "model_name": "LayoutModel",
          "state": {
            "_view_name": "LayoutView",
            "grid_template_rows": null,
            "right": null,
            "justify_content": null,
            "_view_module": "@jupyter-widgets/base",
            "overflow": null,
            "_model_module_version": "1.2.0",
            "_view_count": null,
            "flex_flow": null,
            "width": null,
            "min_width": null,
            "border": null,
            "align_items": null,
            "bottom": null,
            "_model_module": "@jupyter-widgets/base",
            "top": null,
            "grid_column": null,
            "overflow_y": null,
            "overflow_x": null,
            "grid_auto_flow": null,
            "grid_area": null,
            "grid_template_columns": null,
            "flex": null,
            "_model_name": "LayoutModel",
            "justify_items": null,
            "grid_row": null,
            "max_height": null,
            "align_content": null,
            "visibility": null,
            "align_self": null,
            "height": null,
            "min_height": null,
            "padding": null,
            "grid_auto_rows": null,
            "grid_gap": null,
            "max_width": null,
            "order": null,
            "_view_module_version": "1.2.0",
            "grid_template_areas": null,
            "object_position": null,
            "object_fit": null,
            "grid_auto_columns": null,
            "margin": null,
            "display": null,
            "left": null
          }
        },
        "42bbfc99b737450dac8fa021fbaf9e43": {
          "model_module": "@jupyter-widgets/controls",
          "model_name": "DescriptionStyleModel",
          "state": {
            "_view_name": "StyleView",
            "_model_name": "DescriptionStyleModel",
            "description_width": "",
            "_view_module": "@jupyter-widgets/base",
            "_model_module_version": "1.5.0",
            "_view_count": null,
            "_view_module_version": "1.2.0",
            "_model_module": "@jupyter-widgets/controls"
          }
        },
        "df2bd60797e44371ab900414d7d55970": {
          "model_module": "@jupyter-widgets/base",
          "model_name": "LayoutModel",
          "state": {
            "_view_name": "LayoutView",
            "grid_template_rows": null,
            "right": null,
            "justify_content": null,
            "_view_module": "@jupyter-widgets/base",
            "overflow": null,
            "_model_module_version": "1.2.0",
            "_view_count": null,
            "flex_flow": null,
            "width": null,
            "min_width": null,
            "border": null,
            "align_items": null,
            "bottom": null,
            "_model_module": "@jupyter-widgets/base",
            "top": null,
            "grid_column": null,
            "overflow_y": null,
            "overflow_x": null,
            "grid_auto_flow": null,
            "grid_area": null,
            "grid_template_columns": null,
            "flex": null,
            "_model_name": "LayoutModel",
            "justify_items": null,
            "grid_row": null,
            "max_height": null,
            "align_content": null,
            "visibility": null,
            "align_self": null,
            "height": null,
            "min_height": null,
            "padding": null,
            "grid_auto_rows": null,
            "grid_gap": null,
            "max_width": null,
            "order": null,
            "_view_module_version": "1.2.0",
            "grid_template_areas": null,
            "object_position": null,
            "object_fit": null,
            "grid_auto_columns": null,
            "margin": null,
            "display": null,
            "left": null
          }
        }
      }
    }
  },
  "cells": [
    {
      "cell_type": "markdown",
      "metadata": {
        "id": "view-in-github",
        "colab_type": "text"
      },
      "source": [
        "<a href=\"https://colab.research.google.com/github/ElizavetaNosova/CAT_academic_checking_form/blob/master/BERT%2B_constrained_graph.ipynb\" target=\"_parent\"><img src=\"https://colab.research.google.com/assets/colab-badge.svg\" alt=\"Open In Colab\"/></a>"
      ]
    },
    {
      "cell_type": "code",
      "metadata": {
        "id": "Jcbm_1BpQDgG"
      },
      "source": [
        "import torch\n",
        "from transformers import BertTokenizer, BertForNextSentencePrediction\n",
        "from torch.utils.data import Dataset, DataLoader\n",
        "import numpy as np\n",
        "\n",
        "from sklearn.model_selection import train_test_split\n",
        "from tqdm import tqdm\n",
        "import os\n",
        "import random\n",
        "import math\n",
        "import statistics\n",
        "\n",
        "from networkx.readwrite import json_graph\n",
        "import json"
      ],
      "execution_count": null,
      "outputs": []
    },
    {
      "cell_type": "code",
      "metadata": {
        "colab": {
          "base_uri": "https://localhost:8080/"
        },
        "id": "lQC1PZYogi8x",
        "outputId": "74334beb-14d2-43cd-f4d6-ec4010163871"
      },
      "source": [
        "from google.colab import drive\n",
        "drive.mount('/content/gdrive')"
      ],
      "execution_count": null,
      "outputs": [
        {
          "output_type": "stream",
          "text": [
            "Mounted at /content/gdrive\n"
          ],
          "name": "stdout"
        }
      ]
    },
    {
      "cell_type": "code",
      "metadata": {
        "id": "GBlOUJ3shoxZ"
      },
      "source": [
        "os.chdir('gdrive/MyDrive')"
      ],
      "execution_count": null,
      "outputs": []
    },
    {
      "cell_type": "code",
      "metadata": {
        "id": "cBAVLPXPWj4N",
        "colab": {
          "base_uri": "https://localhost:8080/",
          "height": 165,
          "referenced_widgets": [
            "3d47b7105cf8480f8274bfb447e8046b",
            "51047c930eb94714808adafb4d5fd6ac",
            "36d6bb01ee9e440ab00301507cad602e",
            "6ae9e61f9a7848d99a9b2861e412aa18",
            "e0cd18542ff44727b898a6cce3e185b5",
            "5a51b37506d942368ae2e4e8287700e3",
            "6c0feef74a5a441bbf95e8865730e8a2",
            "ddd3cb7382094a7f88083041b87ac72d",
            "0f94028708644fd8b49ebf20cb08b0f5",
            "639d661ca5cf471f91ca22eda4ae3c52",
            "3be0f7f6eaa04f6f8b6f5fef8e75a162",
            "acb7926db34341e6b01b316602290c9b",
            "26c35500e8f1426f8e8e2b724e904144",
            "dead3d8100c54fc4bf0a5fb3266764a5",
            "fd86ca61e3fc4300814ffd09e6bd41be",
            "fe7422ec25ce40dfb64c12346fbb9e3e",
            "e8ecdebe0f294a68b425a4e1ebe5118f",
            "e54c88965d7c43b1b4be8b3d85248bd8",
            "a5b1994d958846b69d907efb433d80bd",
            "44e85c59c30a4d9fa1abed23b2d27cab",
            "12eeae12176a44ac8697e90d8c50483f",
            "7c0dbd639ea248abb3e4c8815fbf6ea1",
            "76c4105cbb2d428d9cdb0a532e0bf20b",
            "c49c31b6333249ee892e0c8be25215fd"
          ]
        },
        "outputId": "1f046b70-250e-43bd-a1fc-deb2dcaf6625"
      },
      "source": [
        "tokenizer = BertTokenizer.from_pretrained('DeepPavlov/rubert-base-cased-sentence')"
      ],
      "execution_count": null,
      "outputs": [
        {
          "output_type": "display_data",
          "data": {
            "application/vnd.jupyter.widget-view+json": {
              "model_id": "3d47b7105cf8480f8274bfb447e8046b",
              "version_minor": 0,
              "version_major": 2
            },
            "text/plain": [
              "HBox(children=(FloatProgress(value=0.0, description='Downloading', max=1649718.0, style=ProgressStyle(descript…"
            ]
          },
          "metadata": {
            "tags": []
          }
        },
        {
          "output_type": "stream",
          "text": [
            "\n"
          ],
          "name": "stdout"
        },
        {
          "output_type": "display_data",
          "data": {
            "application/vnd.jupyter.widget-view+json": {
              "model_id": "0f94028708644fd8b49ebf20cb08b0f5",
              "version_minor": 0,
              "version_major": 2
            },
            "text/plain": [
              "HBox(children=(FloatProgress(value=0.0, description='Downloading', max=112.0, style=ProgressStyle(description_…"
            ]
          },
          "metadata": {
            "tags": []
          }
        },
        {
          "output_type": "stream",
          "text": [
            "\n"
          ],
          "name": "stdout"
        },
        {
          "output_type": "display_data",
          "data": {
            "application/vnd.jupyter.widget-view+json": {
              "model_id": "e8ecdebe0f294a68b425a4e1ebe5118f",
              "version_minor": 0,
              "version_major": 2
            },
            "text/plain": [
              "HBox(children=(FloatProgress(value=0.0, description='Downloading', max=24.0, style=ProgressStyle(description_w…"
            ]
          },
          "metadata": {
            "tags": []
          }
        },
        {
          "output_type": "stream",
          "text": [
            "\n"
          ],
          "name": "stdout"
        }
      ]
    },
    {
      "cell_type": "code",
      "metadata": {
        "colab": {
          "base_uri": "https://localhost:8080/",
          "height": 173,
          "referenced_widgets": [
            "f9c4f680f82a4a609ede957db15946de",
            "0687050d55e942bf9c33d223ac5d7e16",
            "1bbba8da9e55429cb2a1303f4d95260a",
            "53e2bfa618f7420f8a3e7fc66059c62b",
            "bd8d8142be714481adb0cf45cae1c268",
            "9c0acc5a22a34860bfc8fb09448b4a94",
            "c7141a0f5ab64f13a948ca788766980f",
            "ec9e798dc5de4b31a4bb174c9aff5945",
            "a1baa88ecf724ff8bb2a241586ed9e65",
            "6d11a3c409cb4a209c48fc030717fc53",
            "d3e41e785ca747c1a3dc7d0b80c69cf4",
            "9c168a806a98488dbd26d404b4aef1d4",
            "fd11ce09f4e5410e9c2d024db5e9bbd4",
            "4760f47d475c4250815bc47577a18255",
            "42bbfc99b737450dac8fa021fbaf9e43",
            "df2bd60797e44371ab900414d7d55970"
          ]
        },
        "id": "FxuYappjN--K",
        "outputId": "bfe9df79-9620-4e9f-a888-2ec62d6c4a83"
      },
      "source": [
        "bert_model = BertForNextSentencePrediction.from_pretrained('DeepPavlov/rubert-base-cased-sentence')"
      ],
      "execution_count": null,
      "outputs": [
        {
          "output_type": "display_data",
          "data": {
            "application/vnd.jupyter.widget-view+json": {
              "model_id": "f9c4f680f82a4a609ede957db15946de",
              "version_minor": 0,
              "version_major": 2
            },
            "text/plain": [
              "HBox(children=(FloatProgress(value=0.0, description='Downloading', max=642.0, style=ProgressStyle(description_…"
            ]
          },
          "metadata": {
            "tags": []
          }
        },
        {
          "output_type": "stream",
          "text": [
            "\n"
          ],
          "name": "stdout"
        },
        {
          "output_type": "display_data",
          "data": {
            "application/vnd.jupyter.widget-view+json": {
              "model_id": "a1baa88ecf724ff8bb2a241586ed9e65",
              "version_minor": 0,
              "version_major": 2
            },
            "text/plain": [
              "HBox(children=(FloatProgress(value=0.0, description='Downloading', max=711456784.0, style=ProgressStyle(descri…"
            ]
          },
          "metadata": {
            "tags": []
          }
        },
        {
          "output_type": "stream",
          "text": [
            "\n"
          ],
          "name": "stdout"
        },
        {
          "output_type": "stream",
          "text": [
            "Some weights of BertForNextSentencePrediction were not initialized from the model checkpoint at DeepPavlov/rubert-base-cased-sentence and are newly initialized: ['cls.seq_relationship.weight', 'cls.seq_relationship.bias']\n",
            "You should probably TRAIN this model on a down-stream task to be able to use it for predictions and inference.\n"
          ],
          "name": "stderr"
        }
      ]
    },
    {
      "cell_type": "code",
      "metadata": {
        "id": "LzEq88KrsIDB"
      },
      "source": [
        ""
      ],
      "execution_count": null,
      "outputs": []
    },
    {
      "cell_type": "markdown",
      "metadata": {
        "id": "WZx0iA5csIvu"
      },
      "source": [
        "The first step is pretraining a classifier. We have tried to use BERT, fine-tuned when we evaluated BERT for next sentnence prediction, but redoing fine-tuning provided better results"
      ]
    },
    {
      "cell_type": "code",
      "metadata": {
        "id": "86uM3ugrHHA-"
      },
      "source": [
        "class MLPPairBinaryClassifier(torch.nn.Module):\n",
        "  def __init__(self, input_dim=768, hidden_dim_1=100, hidden_dim_2=50, bias=False, dropout=0.05):\n",
        "      super().__init__()\n",
        "      self.dropout = torch.nn.Dropout(dropout)\n",
        "      self.linear1 = torch.nn.Linear(input_dim*2, hidden_dim_1, bias=bias)\n",
        "      self.linear2 = torch.nn.Linear(hidden_dim_1, hidden_dim_2, bias=bias)\n",
        "      self.classifier = torch.nn.Linear(hidden_dim_2, 1)\n",
        "\n",
        "  def forward(self, embedding1, embedding2):\n",
        "      concat_embedding = torch.cat((embedding1, embedding2), -1)\n",
        "      concat_embedding = self.dropout(torch.tanh(self.linear1(concat_embedding)))\n",
        "      concat_embedding = self.dropout(torch.tanh(self.linear2(concat_embedding)))\n",
        "      return torch.sigmoid(self.classifier(concat_embedding))\n"
      ],
      "execution_count": null,
      "outputs": []
    },
    {
      "cell_type": "code",
      "metadata": {
        "id": "sJFY1NSi7_at"
      },
      "source": [
        "class MLPPairBinaryClassifier_v2(torch.nn.Module):\n",
        "    def __init__(self, input_dim=768, hidden_dim_1=100, hidden_dim_2=50, bias=False, dropout=0.05):\n",
        "        super().__init__()\n",
        "        self.dropout = torch.nn.Dropout(dropout)\n",
        "        self.linear1 = torch.nn.Linear(input_dim*2, hidden_dim_1, bias=bias)\n",
        "        self.linear2 = torch.nn.Linear(hidden_dim_1, hidden_dim_2, bias=bias)\n",
        "        self.classifier = torch.nn.Linear(hidden_dim_2, 2)\n",
        "\n",
        "    def forward(self, embedding1, embedding2):\n",
        "      concat_embedding = torch.cat((embedding1, embedding2), -1)\n",
        "      concat_embedding = self.dropout(torch.tanh(self.linear1(concat_embedding)))\n",
        "      concat_embedding = self.dropout(torch.tanh(self.linear2(concat_embedding)))\n",
        "      return torch.softmax(self.classifier(concat_embedding), 1)[:,0]"
      ],
      "execution_count": null,
      "outputs": []
    },
    {
      "cell_type": "code",
      "metadata": {
        "id": "sC5tl3bJ8iX5"
      },
      "source": [
        "MLPclassifier4graph = MLPPairBinaryClassifier_v2()"
      ],
      "execution_count": null,
      "outputs": []
    },
    {
      "cell_type": "code",
      "metadata": {
        "colab": {
          "base_uri": "https://localhost:8080/"
        },
        "id": "lRSWNPan8pdo",
        "outputId": "a714cc9f-44a8-48a5-e296-f703e73428dc"
      },
      "source": [
        "MLPclassifier4graph(torch.ones(768,1).t(), torch.ones(768, 1).t())"
      ],
      "execution_count": null,
      "outputs": [
        {
          "output_type": "execute_result",
          "data": {
            "text/plain": [
              "tensor([0.5453], grad_fn=<SelectBackward>)"
            ]
          },
          "metadata": {
            "tags": []
          },
          "execution_count": 227
        }
      ]
    },
    {
      "cell_type": "code",
      "metadata": {
        "id": "86-Vg7WMuk-Z"
      },
      "source": [
        "def encoding2cuda(encoding, truncation=None, max_length=512):\n",
        "    encoding = {key: encoding[key].cuda() for key in encoding}\n",
        "    if encoding['input_ids'].shape[1] > max_length:\n",
        "        if truncation == 'l':\n",
        "            encoding = {key: encoding[key][:, -max_length:].clone() for key in encoding}\n",
        "        elif truncation == 'r':\n",
        "             encoding = {key: encoding[key][:, :max_length].clone() for key in encoding}\n",
        "    return encoding\n",
        "        "
      ],
      "execution_count": null,
      "outputs": []
    },
    {
      "cell_type": "code",
      "metadata": {
        "colab": {
          "base_uri": "https://localhost:8080/"
        },
        "id": "ti66K9PoOyqy",
        "outputId": "f530ba8b-2326-486c-b593-e74e39bd296a"
      },
      "source": [
        "encoding2.keys()"
      ],
      "execution_count": null,
      "outputs": [
        {
          "output_type": "execute_result",
          "data": {
            "text/plain": [
              "dict_keys(['input_ids', 'token_type_ids', 'attention_mask'])"
            ]
          },
          "metadata": {
            "tags": []
          },
          "execution_count": 110
        }
      ]
    },
    {
      "cell_type": "code",
      "metadata": {
        "colab": {
          "base_uri": "https://localhost:8080/"
        },
        "id": "c_fB_lXtORaZ",
        "outputId": "b020923c-3ccf-4890-b65f-d88f64344d74"
      },
      "source": [
        "[encoding2[key].shape for key in encoding2]"
      ],
      "execution_count": null,
      "outputs": [
        {
          "output_type": "execute_result",
          "data": {
            "text/plain": [
              "[torch.Size([1, 512]), torch.Size([1, 512]), torch.Size([1, 512])]"
            ]
          },
          "metadata": {
            "tags": []
          },
          "execution_count": 48
        }
      ]
    },
    {
      "cell_type": "code",
      "metadata": {
        "id": "OoZME_jnvA5F"
      },
      "source": [
        "mlp_classifier = MLPPairBinaryClassifier()\n",
        "mlp_optimizer =  torch.optim.Adam([{'params': mlp_classifier.parameters()}], \n",
        "                              lr = 1e-3)\n",
        "criterion = torch.nn.BCELoss()"
      ],
      "execution_count": null,
      "outputs": []
    },
    {
      "cell_type": "code",
      "metadata": {
        "colab": {
          "base_uri": "https://localhost:8080/"
        },
        "id": "XtOgojqJJ8XY",
        "outputId": "dfc57203-3ebf-4ed6-beef-273416b05fc5"
      },
      "source": [
        "encoding1"
      ],
      "execution_count": null,
      "outputs": [
        {
          "output_type": "execute_result",
          "data": {
            "text/plain": [
              "{'input_ids': [101, 132, 102], 'token_type_ids': [0, 0, 0], 'attention_mask': [1, 1, 1]}"
            ]
          },
          "metadata": {
            "tags": []
          },
          "execution_count": 27
        }
      ]
    },
    {
      "cell_type": "code",
      "metadata": {
        "id": "wxGTeJnzK95j"
      },
      "source": [
        "import transformers"
      ],
      "execution_count": null,
      "outputs": []
    },
    {
      "cell_type": "code",
      "metadata": {
        "colab": {
          "base_uri": "https://localhost:8080/"
        },
        "id": "nMjPUbXqQvmm",
        "outputId": "5d18376f-50f1-4bb1-d98f-1d3a0c0fa523"
      },
      "source": [
        "mlp_classifier.cuda()"
      ],
      "execution_count": null,
      "outputs": [
        {
          "output_type": "execute_result",
          "data": {
            "text/plain": [
              "MLPPairBinaryClassifier(\n",
              "  (dropout): Dropout(p=0.05, inplace=False)\n",
              "  (linear1): Linear(in_features=1536, out_features=100, bias=False)\n",
              "  (linear2): Linear(in_features=100, out_features=50, bias=False)\n",
              "  (classifier): Linear(in_features=50, out_features=1, bias=True)\n",
              ")"
            ]
          },
          "metadata": {
            "tags": []
          },
          "execution_count": 133
        }
      ]
    },
    {
      "cell_type": "code",
      "metadata": {
        "colab": {
          "base_uri": "https://localhost:8080/"
        },
        "id": "uyrjFsdb0H9j",
        "outputId": "6a732bdd-32e6-4ef2-9d23-a53125f70cf2"
      },
      "source": [
        "mlp_classifier.train()"
      ],
      "execution_count": null,
      "outputs": [
        {
          "output_type": "execute_result",
          "data": {
            "text/plain": [
              "MLPPairBinaryClassifier(\n",
              "  (dropout): Dropout(p=0.05, inplace=False)\n",
              "  (linear1): Linear(in_features=1536, out_features=100, bias=False)\n",
              "  (linear2): Linear(in_features=100, out_features=50, bias=False)\n",
              "  (classifier): Linear(in_features=50, out_features=1, bias=True)\n",
              ")"
            ]
          },
          "metadata": {
            "tags": []
          },
          "execution_count": 40
        }
      ]
    },
    {
      "cell_type": "code",
      "metadata": {
        "id": "UGjSyrKa_v1V"
      },
      "source": [
        "bert_limit=512\n",
        "for epoch in range(3):\n",
        "    for i in range(len(train_dataset)):\n",
        "        fragment1, fragment2, correct_label = train_dataset[i]\n",
        "        encoding1 = tokenizer(fragment1, return_tensors='pt')\n",
        "        encoding2 = tokenizer(fragment2, return_tensors='pt')\n",
        "        representation1 = bert_model.bert(encoding2cuda(encoding1, truncation='l')['input_ids'])['pooler_output']\n",
        "        representation2 = bert_model.bert(encoding2cuda(encoding2, truncation='r')['input_ids'])['pooler_output']\n",
        "        probs = mlp_classifier(representation1, representation2) \n",
        "\n",
        "        loss = criterion(torch.squeeze(probs).cpu(), torch.squeeze(torch.tensor([correct_label])).float())\n",
        "        loss.backward() \n",
        "        if i % 50 == 0:\n",
        "            mlp_optimizer.step()\n",
        "            mlp_optimizer.zero_grad()\n",
        "        if i % 1500 == 0:\n",
        "            torch.save(mlp_classifier.state_dict(), 'mlp_classifier_initial.pth')"
      ],
      "execution_count": null,
      "outputs": []
    },
    {
      "cell_type": "code",
      "metadata": {
        "colab": {
          "base_uri": "https://localhost:8080/"
        },
        "id": "FGMYrUlPTXtV",
        "outputId": "a1cd1044-97d5-46e2-9549-33bb2c6250e5"
      },
      "source": [
        "mlp_classifier.load_state_dict(torch.load('mlp_classifier_initial.pth', map_location=torch.device('cpu')))"
      ],
      "execution_count": null,
      "outputs": [
        {
          "output_type": "execute_result",
          "data": {
            "text/plain": [
              "<All keys matched successfully>"
            ]
          },
          "metadata": {
            "tags": []
          },
          "execution_count": 43
        }
      ]
    },
    {
      "cell_type": "code",
      "metadata": {
        "colab": {
          "base_uri": "https://localhost:8080/"
        },
        "id": "yPz9KlvQUsGJ",
        "outputId": "72b6e493-678a-4809-9772-4878f34a95bd"
      },
      "source": [
        "mlp_classifier.cuda()"
      ],
      "execution_count": null,
      "outputs": [
        {
          "output_type": "execute_result",
          "data": {
            "text/plain": [
              "MLPPairBinaryClassifier(\n",
              "  (dropout): Dropout(p=0.05, inplace=False)\n",
              "  (linear1): Linear(in_features=1536, out_features=100, bias=False)\n",
              "  (linear2): Linear(in_features=100, out_features=50, bias=False)\n",
              "  (classifier): Linear(in_features=50, out_features=1, bias=True)\n",
              ")"
            ]
          },
          "metadata": {
            "tags": []
          },
          "execution_count": 36
        }
      ]
    },
    {
      "cell_type": "code",
      "metadata": {
        "id": "NV_0Du4ZkL5e"
      },
      "source": [
        "bert_model.eval()\n",
        "mlp_classifier.eval()\n",
        "\n",
        "correct = []\n",
        "predicted = []\n",
        "\n",
        "with torch.no_grad():\n",
        "    for fragment1, fragment2, label in test_dataset:\n",
        "        encoding1 = tokenizer(fragment1, return_tensors='pt')\n",
        "        encoding2 = tokenizer(fragment2, return_tensors='pt')\n",
        "        representation1 = bert_model.bert(encoding2cuda(encoding1, truncation='l')['input_ids'])['pooler_output']\n",
        "        representation2 = bert_model.bert(encoding2cuda(encoding2, truncation='r')['input_ids'])['pooler_output']\n",
        "        prob = mlp_classifier(representation1, representation2) \n",
        "\n",
        "        correct += [label]\n",
        "        predicted += [float(prob)]"
      ],
      "execution_count": null,
      "outputs": []
    },
    {
      "cell_type": "code",
      "metadata": {
        "id": "gRKmO4DLzmus",
        "colab": {
          "base_uri": "https://localhost:8080/"
        },
        "outputId": "d3be6f86-efaa-469e-d54a-8b42c2be6977"
      },
      "source": [
        "len(predicted)"
      ],
      "execution_count": null,
      "outputs": [
        {
          "output_type": "execute_result",
          "data": {
            "text/plain": [
              "19210"
            ]
          },
          "metadata": {
            "tags": []
          },
          "execution_count": 38
        }
      ]
    },
    {
      "cell_type": "code",
      "metadata": {
        "id": "iiDz-NrMliwv",
        "colab": {
          "base_uri": "https://localhost:8080/",
          "height": 294
        },
        "outputId": "2eea5c00-b05e-4a3f-bf68-393902b4436a"
      },
      "source": [
        "from sklearn import metrics\n",
        "fpr_bert, tpr_bert, thresholds_bert = metrics.roc_curve(correct, predicted, pos_label=1)\n",
        "import matplotlib.pyplot as plt\n",
        "plt.title('Receiver Operating Characteristic')\n",
        "roc_ouc = metrics.auc(fpr_bert, tpr_bert)\n",
        "plt.plot(fpr_bert, tpr_bert, 'b', label = 'AUC = %0.2f' % roc_ouc)\n",
        "plt.legend(loc = 'lower right')\n",
        "plt.plot([0, 1], [0, 1],'r--')\n",
        "plt.xlim([0, 1])\n",
        "plt.ylim([0, 1])\n",
        "plt.ylabel('BERT next sentence predictor True Positive Rate')\n",
        "plt.xlabel('BERT next sentence predictor False Positive Rate')\n",
        "plt.show()"
      ],
      "execution_count": null,
      "outputs": [
        {
          "output_type": "display_data",
          "data": {
            "image/png": "[encoded data removed]",
            "text/plain": [
              "<Figure size 432x288 with 1 Axes>"
            ]
          },
          "metadata": {
            "tags": [],
            "needs_background": "light"
          }
        }
      ]
    },
    {
      "cell_type": "code",
      "metadata": {
        "id": "u5gqVV91Rog5"
      },
      "source": [
        "torch.save(mlp_classifier, 'mlp_classifier_initial.pth')"
      ],
      "execution_count": null,
      "outputs": []
    },
    {
      "cell_type": "code",
      "metadata": {
        "id": "mQ7LhkZtX8RA"
      },
      "source": [
        "bert_model = BertForNextSentencePrediction.from_pretrained('DeepPavlov/rubert-base-cased-sentence')"
      ],
      "execution_count": null,
      "outputs": []
    },
    {
      "cell_type": "code",
      "metadata": {
        "id": "ffmcz68KYTYd"
      },
      "source": [
        ""
      ],
      "execution_count": null,
      "outputs": []
    },
    {
      "cell_type": "code",
      "metadata": {
        "id": "ToUhjGROYD9e"
      },
      "source": [
        ""
      ],
      "execution_count": null,
      "outputs": []
    },
    {
      "cell_type": "code",
      "metadata": {
        "id": "Wgwiot0HYfOL"
      },
      "source": [
        "mlp_classifier = MLPPairBinaryClassifier()\n",
        "#mlp_optimizer =  torch.optim.Adam([{'params': mlp_classifier.parameters()}], \n",
        "#                               lr = 1e-3)\n",
        "#criterion = torch.nn.BCELoss()\n"
      ],
      "execution_count": null,
      "outputs": []
    },
    {
      "cell_type": "code",
      "metadata": {
        "id": "jbjE5oCSYnlx"
      },
      "source": [
        "bert_model.cuda()\n",
        "mlp_classifier.cuda()"
      ],
      "execution_count": null,
      "outputs": []
    },
    {
      "cell_type": "code",
      "metadata": {
        "colab": {
          "base_uri": "https://localhost:8080/"
        },
        "id": "Dr5twG4BYjPN",
        "outputId": "afc879a0-4111-40d7-cedd-d07ddf3a40f0"
      },
      "source": [
        "bert_limit=512\n",
        "for epoch in range(1):\n",
        "    for i in range(len(train_dataset)):\n",
        "        fragment1, fragment2, correct_label = train_dataset[i]\n",
        "        encoding1 = tokenizer(fragment1, return_tensors='pt')\n",
        "        encoding2 = tokenizer(fragment2, return_tensors='pt')\n",
        "        representation1 = bert_model.bert(encoding2cuda(encoding1, truncation='l')['input_ids'])['pooler_output']\n",
        "        representation2 = bert_model.bert(encoding2cuda(encoding2, truncation='r')['input_ids'])['pooler_output']\n",
        "        probs = mlp_classifier(representation1, representation2) \n",
        "\n",
        "        loss = criterion(torch.squeeze(probs).cpu(), torch.squeeze(torch.tensor([correct_label])).float())\n",
        "        loss.backward() \n",
        "        if i % 50 == 0:\n",
        "            mlp_optimizer.step()\n",
        "            mlp_optimizer.zero_grad()\n",
        "        if i % 1500 == 0:\n",
        "            torch.save(mlp_classifier.state_dict(), 'mlp_classifier_initial.pth')\n",
        "            print(i/len(train_dataset))"
      ],
      "execution_count": null,
      "outputs": [
        {
          "output_type": "stream",
          "text": [
            "0.0\n",
            "0.04339022273647671\n",
            "0.08678044547295342\n",
            "0.13017066820943013\n",
            "0.17356089094590685\n",
            "0.21695111368238357\n",
            "0.26034133641886026\n",
            "0.303731559155337\n",
            "0.3471217818918137\n",
            "0.39051200462829044\n",
            "0.43390222736476713\n",
            "0.4772924501012438\n",
            "0.5206826728377205\n",
            "0.5640728955741973\n",
            "0.607463118310674\n",
            "0.6508533410471508\n",
            "0.6942435637836274\n",
            "0.7376337865201041\n",
            "0.7810240092565809\n",
            "0.8244142319930575\n",
            "0.8678044547295343\n",
            "0.911194677466011\n",
            "0.9545849002024877\n",
            "0.9979751229389644\n"
          ],
          "name": "stdout"
        }
      ]
    },
    {
      "cell_type": "code",
      "metadata": {
        "id": "7ba1UeEQgPXg"
      },
      "source": [
        "bert_model.eval()\n",
        "mlp_classifier.eval()\n",
        "\n",
        "correct = []\n",
        "predicted = []\n",
        "\n",
        "with torch.no_grad():\n",
        "    for fragment1, fragment2, label in test_dataset:\n",
        "        encoding1 = tokenizer(fragment1, return_tensors='pt')\n",
        "        encoding2 = tokenizer(fragment2, return_tensors='pt')\n",
        "        representation1 = bert_model.bert(encoding2cuda(encoding1, truncation='l')['input_ids'])['pooler_output']\n",
        "        representation2 = bert_model.bert(encoding2cuda(encoding2, truncation='r')['input_ids'])['pooler_output']\n",
        "        prob = mlp_classifier(representation1, representation2) \n",
        "\n",
        "        correct += [label]\n",
        "        predicted += [float(prob)]"
      ],
      "execution_count": null,
      "outputs": []
    },
    {
      "cell_type": "code",
      "metadata": {
        "colab": {
          "base_uri": "https://localhost:8080/",
          "height": 294
        },
        "id": "DTv29qqMgS9z",
        "outputId": "65ee5a1c-fcbc-4c5e-c2b9-d46246c33a2b"
      },
      "source": [
        "from sklearn import metrics\n",
        "fpr_bert, tpr_bert, thresholds_bert = metrics.roc_curve(correct, predicted, pos_label=1)\n",
        "import matplotlib.pyplot as plt\n",
        "plt.title('Receiver Operating Characteristic')\n",
        "roc_ouc = metrics.auc(fpr_bert, tpr_bert)\n",
        "plt.plot(fpr_bert, tpr_bert, 'b', label = 'AUC = %0.2f' % roc_ouc)\n",
        "plt.legend(loc = 'lower right')\n",
        "plt.plot([0, 1], [0, 1],'r--')\n",
        "plt.xlim([0, 1])\n",
        "plt.ylim([0, 1])\n",
        "plt.ylabel('BERT+MLP True Positive Rate')\n",
        "plt.xlabel('BERT+MLP False Positive Rate')\n",
        "plt.show()"
      ],
      "execution_count": null,
      "outputs": [
        {
          "output_type": "display_data",
          "data": {
            "image/png": "[encoded data removed]",
            "text/plain": [
              "<Figure size 432x288 with 1 Axes>"
            ]
          },
          "metadata": {
            "tags": [],
            "needs_background": "light"
          }
        }
      ]
    },
    {
      "cell_type": "code",
      "metadata": {
        "id": "FpBfbxuLj-HJ"
      },
      "source": [
        "optimizer =  torch.optim.Adam([{'params': mlp_classifier.parameters(), 'lr':1e-3}, {'params': bert_model.bert.parameters(), 'lr':1e-5}])"
      ],
      "execution_count": null,
      "outputs": []
    },
    {
      "cell_type": "code",
      "metadata": {
        "id": "Tr01VQTykaQ8"
      },
      "source": [
        "bert_limit=512\n",
        "for epoch in range(2):\n",
        "    for i in range(len(train_dataset)):\n",
        "        fragment1, fragment2, correct_label = train_dataset[i]\n",
        "        encoding1 = tokenizer(fragment1, return_tensors='pt')\n",
        "        encoding2 = tokenizer(fragment2, return_tensors='pt')\n",
        "        representation1 = bert_model.bert(encoding2cuda(encoding1, truncation='l')['input_ids'])['pooler_output']\n",
        "        representation2 = bert_model.bert(encoding2cuda(encoding2, truncation='r')['input_ids'])['pooler_output']\n",
        "        probs = mlp_classifier(representation1, representation2) \n",
        "\n",
        "        loss = criterion(torch.squeeze(probs).cpu(), torch.squeeze(torch.tensor([correct_label])).float())\n",
        "        loss.backward() \n",
        "        if i % 50 == 0:\n",
        "            optimizer.step()\n",
        "            optimizer.zero_grad()\n",
        "        if i % 1500 == 0:\n",
        "            torch.save(mlp_classifier.state_dict(), 'mlp_classifier_initial.pth')\n",
        "            bert_model.save_pretrained('bert4mlp')\n",
        "            print(i/len(train_dataset))"
      ],
      "execution_count": null,
      "outputs": []
    },
    {
      "cell_type": "code",
      "metadata": {
        "id": "FR0nwaFkAy1R"
      },
      "source": [
        "bert_model.eval()\n",
        "mlp_classifier.eval()\n",
        "\n",
        "correct = []\n",
        "predicted = []\n",
        "\n",
        "with torch.no_grad():\n",
        "    for fragment1, fragment2, label in test_dataset:\n",
        "        encoding1 = tokenizer(fragment1, return_tensors='pt')\n",
        "        encoding2 = tokenizer(fragment2, return_tensors='pt')\n",
        "        representation1 = bert_model.bert(encoding2cuda(encoding1, truncation='l')['input_ids'])['pooler_output']\n",
        "        representation2 = bert_model.bert(encoding2cuda(encoding2, truncation='r')['input_ids'])['pooler_output']\n",
        "        prob = mlp_classifier(representation1, representation2) \n",
        "\n",
        "        correct += [label]\n",
        "        predicted += [float(prob)]"
      ],
      "execution_count": null,
      "outputs": []
    },
    {
      "cell_type": "code",
      "metadata": {
        "colab": {
          "base_uri": "https://localhost:8080/",
          "height": 294
        },
        "id": "6NelYmxvA1m-",
        "outputId": "68b36ee4-4e01-4632-f048-f63b38107277"
      },
      "source": [
        "from sklearn import metrics\n",
        "fpr_bert, tpr_bert, thresholds_bert = metrics.roc_curve(correct, predicted, pos_label=1)\n",
        "import matplotlib.pyplot as plt\n",
        "plt.title('Receiver Operating Characteristic')\n",
        "roc_ouc = metrics.auc(fpr_bert, tpr_bert)\n",
        "plt.plot(fpr_bert, tpr_bert, 'b', label = 'AUC = %0.2f' % roc_ouc)\n",
        "plt.legend(loc = 'lower right')\n",
        "plt.plot([0, 1], [0, 1],'r--')\n",
        "plt.xlim([0, 1])\n",
        "plt.ylim([0, 1])\n",
        "plt.ylabel('BERT+MLP True Positive Rate')\n",
        "plt.xlabel('BERT+MLP False Positive Rate')\n",
        "plt.show()"
      ],
      "execution_count": null,
      "outputs": [
        {
          "output_type": "display_data",
          "data": {
            "image/png": "[encoded data removed]",
            "text/plain": [
              "<Figure size 432x288 with 1 Axes>"
            ]
          },
          "metadata": {
            "tags": [],
            "needs_background": "light"
          }
        }
      ]
    },
    {
      "cell_type": "code",
      "metadata": {
        "id": "8DNRxuXX_gG9"
      },
      "source": [
        "bert_model = BertForNextSentencePrediction.from_pretrained('bert4mlp')"
      ],
      "execution_count": null,
      "outputs": []
    },
    {
      "cell_type": "code",
      "metadata": {
        "id": "QoY96VPkFvDq"
      },
      "source": [
        "bert_model.cuda()"
      ],
      "execution_count": null,
      "outputs": []
    },
    {
      "cell_type": "code",
      "metadata": {
        "id": "rg_HzBVL7B2U"
      },
      "source": [
        "def bert_encode_fragment(text, tokenizer, bert):\n",
        "    bert_limit = 512\n",
        "    encoding = tokenizer(text, return_tensors='pt')['input_ids'].to(bert.device)\n",
        "    if encoding.shape[1] <= bert_limit:\n",
        "        return bert(encoding)['pooler_output']\n",
        "    else:\n",
        "       encoding_as_first = encoding[:, -bert_limit:]\n",
        "       encoding_as_second = encoding[:, :bert_limit]\n",
        "       return (bert(encoding_as_first)['pooler_output']+bert(encoding_as_second)['pooler_output'])/2"
      ],
      "execution_count": null,
      "outputs": []
    },
    {
      "cell_type": "code",
      "metadata": {
        "id": "HSvZXfnr9-Cb"
      },
      "source": [
        "test = 'кошка '*1000"
      ],
      "execution_count": null,
      "outputs": []
    },
    {
      "cell_type": "code",
      "metadata": {
        "id": "eaVI5_hIQ1T8"
      },
      "source": [
        "bert"
      ],
      "execution_count": null,
      "outputs": []
    },
    {
      "cell_type": "code",
      "metadata": {
        "colab": {
          "base_uri": "https://localhost:8080/"
        },
        "id": "IL8tuH_nADkq",
        "outputId": "2e4d0e51-a9b6-48ab-ab12-e77a4df8297f"
      },
      "source": [
        "tokenizer(test, return_tensors='pt')['input_ids'].shape"
      ],
      "execution_count": null,
      "outputs": [
        {
          "output_type": "execute_result",
          "data": {
            "text/plain": [
              "torch.Size([1, 1002])"
            ]
          },
          "metadata": {
            "tags": []
          },
          "execution_count": 26
        }
      ]
    },
    {
      "cell_type": "code",
      "metadata": {
        "id": "ruZhJwd9EjeD"
      },
      "source": [
        "with open(os.path.join(BOOK_GRAPHS_DIRECTORY, os.listdir(BOOK_GRAPHS_DIRECTORY)[0]), encoding='utf-8') as f:\n",
        "    encoding = tokenizer(text, return_tensors='pt')['input_ids'].cuda()\n",
        "    if encoding.shape[1] <= 512:\n",
        "        "
      ],
      "execution_count": null,
      "outputs": []
    },
    {
      "cell_type": "code",
      "metadata": {
        "id": "iBhYZrJGFUBd"
      },
      "source": [
        "bert_model.cuda()"
      ],
      "execution_count": null,
      "outputs": []
    },
    {
      "cell_type": "code",
      "metadata": {
        "id": "jE0mHvZWHSiw"
      },
      "source": [
        "def get_bert_encoding_json(encoding, bert):\n",
        "    return [float(i) for i in torch.squeeze(bert(encoding)['pooler_output'])]"
      ],
      "execution_count": null,
      "outputs": []
    },
    {
      "cell_type": "code",
      "metadata": {
        "colab": {
          "base_uri": "https://localhost:8080/"
        },
        "id": "cXYTl0WBSdi5",
        "outputId": "5889e6eb-a016-495d-b30d-c06fb433eaf0"
      },
      "source": [
        "node.keys()"
      ],
      "execution_count": null,
      "outputs": [
        {
          "output_type": "execute_result",
          "data": {
            "text/plain": [
              "dict_keys(['fragment_text', 'id', 'bert_encoding'])"
            ]
          },
          "metadata": {
            "tags": []
          },
          "execution_count": 53
        }
      ]
    },
    {
      "cell_type": "code",
      "metadata": {
        "id": "QSrYeHa_FPot"
      },
      "source": [
        "bert_limit=512\n",
        "for file_name in tqdm(os.listdir(ONLINE_GRAPHS_DIRECTORY)):\n",
        "    book_path = os.path.join(ONLINE_GRAPHS_DIRECTORY, file_name)\n",
        "    with open(book_path, encoding='utf-8') as f:\n",
        "        data = json.load(f)\n",
        "        for node in data['nodes']:\n",
        "            if 'fragment_text' in node and isinstance(node['fragment_text'], str):\n",
        "                fragment_text = node['fragment_text']\n",
        "                encoding = tokenizer(fragment_text, return_tensors='pt')['input_ids'].cuda()\n",
        "                del node['bert_encoding']\n",
        "                if encoding.shape[1] <= bert_limit:\n",
        "                    node['bert_encoding'] = get_bert_encoding_json(encoding, bert_model.bert)\n",
        "                else:\n",
        "                    encoding_as_first = encoding[:, -bert_limit:]\n",
        "                    encoding_as_second = encoding[:, :bert_limit]\n",
        "                    node['bert_encoding_as_first'] =  get_bert_encoding_json(encoding_as_first, bert_model.bert)\n",
        "                    node['bert_encoding_as_second'] =  get_bert_encoding_json(encoding_as_second, bert_model.bert)\n",
        "    with open(book_path, 'w', encoding='utf-8') as f:\n",
        "        json.dump(data, f)"
      ],
      "execution_count": null,
      "outputs": []
    },
    {
      "cell_type": "code",
      "metadata": {
        "id": "lKcHlo5ZS4Sl"
      },
      "source": [
        "for file_name in tqdm(os.listdir(BOOK_GRAPHS_DIRECTORY)):\n",
        "    book_path = os.path.join(BOOK_GRAPHS_DIRECTORY, file_name)\n",
        "    with open(book_path, encoding='utf-8') as f:\n",
        "        data = json.load(f)\n",
        "        for node in data['nodes']:\n",
        "            if 'fragment_text' in node and isinstance(node['fragment_text'], str):\n",
        "                fragment_text = node['fragment_text']\n",
        "                encoding = tokenizer(fragment_text, return_tensors='pt')['input_ids'].cuda()\n",
        "                if encoding.shape[1] <= bert_limit:\n",
        "                    node['bert_encoding'] = get_bert_encoding_json(encoding, bert_model.bert)\n",
        "                else:\n",
        "                    encoding_as_first = encoding[:, -bert_limit:]\n",
        "                    encoding_as_second = encoding[:, :bert_limit]\n",
        "                    node['bert_encoding_as_first'] =  get_bert_encoding_json(encoding_as_first, bert_model.bert)\n",
        "                    node['bert_encoding_as_second'] =  get_bert_encoding_json(encoding_as_second, bert_model.bert)\n",
        "    with open(book_path, 'w', encoding='utf-8') as f:\n",
        "        json.dump(data, f)"
      ],
      "execution_count": null,
      "outputs": []
    },
    {
      "cell_type": "code",
      "metadata": {
        "colab": {
          "base_uri": "https://localhost:8080/",
          "height": 36
        },
        "id": "3XGR0evPTI0J",
        "outputId": "5261f9fe-fe0b-4c05-fbe1-2d6a5869ce55"
      },
      "source": [
        "BOOK_GRAPHS_DIRECTORY"
      ],
      "execution_count": null,
      "outputs": [
        {
          "output_type": "execute_result",
          "data": {
            "application/vnd.google.colaboratory.intrinsic+json": {
              "type": "string"
            },
            "text/plain": [
              "'Quest_data/questbook_graphs'"
            ]
          },
          "metadata": {
            "tags": []
          },
          "execution_count": 56
        }
      ]
    },
    {
      "cell_type": "code",
      "metadata": {
        "id": "hyOK3E9ZJ5vv",
        "colab": {
          "base_uri": "https://localhost:8080/"
        },
        "outputId": "6e077fee-22ec-46b8-d41b-04478c546989"
      },
      "source": [
        "test['nodes'][0].keys()"
      ],
      "execution_count": null,
      "outputs": [
        {
          "output_type": "execute_result",
          "data": {
            "text/plain": [
              "dict_keys(['fragment_text', 'id'])"
            ]
          },
          "metadata": {
            "tags": []
          },
          "execution_count": 38
        }
      ]
    },
    {
      "cell_type": "code",
      "metadata": {
        "id": "0MBtjLmyHzcM"
      },
      "source": [
        "class GraphBasedOrderingNetwork(torch.nn.Module):\n",
        "    def __init__(self, pretrained_MLP, num_iterations, initial_self_coef, update_previous=False, threshold = 0.5, joined_key='bert_encoding', first_key='bert_encoding_as_first', second_key='bert_encoding_as_second'):\n",
        "        super().__init__()\n",
        "        self.mlp = pretrained_MLP\n",
        "        self.num_iterations = num_iterations\n",
        "        self.self_coef = torch.nn.Linear(1,1, bias=False)\n",
        "        self.self_coef.weight = torch.nn.Parameter(torch.tensor([[initial_self_coef]]).float())\n",
        "        self.neighbour_coef = torch.nn.Linear(1,1, bias=False)\n",
        "        self.neighbour_coef.weight = torch.nn.Parameter(torch.tensor([[1]]).float())\n",
        "        self.direction = 'previous' if update_previous else 'next'\n",
        "\n",
        "        self.first_key = first_key\n",
        "        self.second_key = second_key\n",
        "        self.joined_key = joined_key\n",
        "        self.threshold = threshold\n",
        "\n",
        "    def forward(self, graph=None, path=None, texts=None):\n",
        "        if graph and path:\n",
        "            joined_representations, first_representations, second_representations = self.get_initial_representations(graph, path)\n",
        "        else:\n",
        "            joined_representations, first_representations, second_representations = self.get_initial_representations4texts(texts)\n",
        "        probabilities = self.calc_probabilities(first_representations, second_representations )\n",
        "        for iteration in range(self.num_iterations):\n",
        "            joined_representations = self.update_representations(joined_representations,  probabilities)\n",
        "            probabilities  = self.calc_probabilities(joined_representations, joined_representations)\n",
        "        return probabilities\n",
        "            \n",
        "\n",
        "\n",
        "    def get_initial_representations(self, graph, path):\n",
        "        nodes = graph.nodes()\n",
        "\n",
        "        path_representations_as_first = []\n",
        "        path_representation_as_second = []\n",
        "\n",
        "        path_representations_joined = []\n",
        "        for node in path:\n",
        "            if self.joined_key in nodes[node]:\n",
        "               for representations in  path_representations_joined, path_representations_as_first, path_representation_as_second:\n",
        "                   representations.append(torch.tensor(nodes[node][self.joined_key]))\n",
        "            elif self.first_key in nodes[node] and self.second_key in nodes[node]:\n",
        "                encoding_as_first = torch.tensor(nodes[node][self.first_key])\n",
        "                encoding_as_second =  torch.tensor(nodes[node][self.second_key])\n",
        "                path_representations_as_first.append(encoding_as_first)\n",
        "                path_representation_as_second.append(encoding_as_second)\n",
        "                path_representations_joined.append(0.5*encoding_as_first+0.5*encoding_as_second)\n",
        "            else:\n",
        "                raise ValueError('Graph should contain bert encoding of texts')\n",
        "        return self.cat_representations(path_representations_joined).t(),  self.cat_representations(path_representations_as_first).t(), self.cat_representations(path_representation_as_second).t()\n",
        "\n",
        "    def get_initial_representations4texts(self, texts):\n",
        "\n",
        "        path_representations_as_first = []\n",
        "        path_representation_as_second = []\n",
        "\n",
        "        path_representations_joined = []\n",
        "\n",
        "        for text in texts:\n",
        "            encoding = tokenizer(text, return_tensors='pt')['input_ids']\n",
        "            if encoding.shape[1] <= bert_limit:\n",
        "                bert_encoding = get_bert_encoding_json(encoding, bert_model.bert)\n",
        "                for representations in  path_representations_joined, path_representations_as_first, path_representation_as_second:\n",
        "                    representations.append(bert_encoding)\n",
        "\n",
        "            else:\n",
        "                encoding_as_first = encoding[:, -bert_limit:]\n",
        "                encoding_as_second = encoding[:, :bert_limit]\n",
        "                path_representations_as_first.append(encoding_as_first)\n",
        "                path_representation_as_second.append(encoding_as_second)\n",
        "                path_representations_joined.append(0.5*encoding_as_first+0.5*encoding_as_second)\n",
        "        return self.cat_representations(path_representations_joined).t(),  self.cat_representations(path_representations_as_first).t(), self.cat_representations(path_representation_as_second).t()\n",
        "\n",
        "    \n",
        "    \n",
        "    \n",
        "    def cat_representations(self, representations):\n",
        "        print(representations)\n",
        "        return torch.cat([torch.unsqueeze(torch.tensor(tensor), 1) for tensor in representations], 1)\n",
        "\n",
        "    def calc_probabilities(self, first_representations, second_representations):\n",
        "        assert first_representations.shape == second_representations.shape\n",
        "        num_fragments = first_representations.shape[0]\n",
        "        probabilities = torch.zeros(num_fragments, num_fragments)\n",
        "        for i, first_representation in enumerate(first_representations):\n",
        "            for j, second_representation in enumerate(second_representations):\n",
        "                if i != j:\n",
        "                    probabilities[i][j] = torch.squeeze(self.mlp(torch.unsqueeze(first_representation, 0), torch.unsqueeze(second_representation, 0)))\n",
        "        return probabilities\n",
        "\n",
        "    \n",
        "    def update_representations(self, representations, probabilities):\n",
        "        unsqueezed_representations = torch.unsqueeze(representations, 2)\n",
        "        new_representations =  unsqueezed_representations.clone()\n",
        "        new_representatios = self.self_coef(new_representations)\n",
        "\n",
        "        for i, probability_vector in enumerate(probabilities):\n",
        "            for j, probability in enumerate(probability_vector):\n",
        "                if probability >= self.threshold:\n",
        "                    if self.direction == 'next':\n",
        "                        new_representations[j] = new_representations[j].clone() + probability*self.neighbour_coef(unsqueezed_representations[i]).clone()\n",
        "                    else:\n",
        "                        new_representations[i] = new_representations[i].clone() + self.neighbour_coef(unsqueezed_representationss[j]).clone()\n",
        "        return torch.squeeze(new_representations)"
      ],
      "execution_count": null,
      "outputs": []
    },
    {
      "cell_type": "code",
      "metadata": {
        "colab": {
          "base_uri": "https://localhost:8080/"
        },
        "id": "-mpEOsRGRIjH",
        "outputId": "dacd9558-8ac7-45f2-94e4-af90bf305ddb"
      },
      "source": [
        "pretrained_MLP = MLPPairBinaryClassifier()\n",
        "pretrained_MLP.load_state_dict(torch.load('mlp_classifier_initial.pth', map_location=torch.device('cpu')))"
      ],
      "execution_count": null,
      "outputs": [
        {
          "output_type": "execute_result",
          "data": {
            "text/plain": [
              "<All keys matched successfully>"
            ]
          },
          "metadata": {
            "tags": []
          },
          "execution_count": 56
        }
      ]
    },
    {
      "cell_type": "code",
      "metadata": {
        "id": "Q3IlWKf0Zwtr"
      },
      "source": [
        "MLPclassifier4graph = MLPPairBinaryClassifier_v2()"
      ],
      "execution_count": null,
      "outputs": []
    },
    {
      "cell_type": "code",
      "metadata": {
        "id": "qtXVoHv-9zQq"
      },
      "source": [
        "MLPclassifier4graph"
      ],
      "execution_count": null,
      "outputs": []
    },
    {
      "cell_type": "code",
      "metadata": {
        "id": "ccQONTMB910J"
      },
      "source": [
        "MLPclassifier4graph.linear1 = pretrained_MLP.linear1\n",
        "MLPclassifier4graph.linear2 = pretrained_MLP.linear2"
      ],
      "execution_count": null,
      "outputs": []
    },
    {
      "cell_type": "code",
      "metadata": {
        "id": "-iJEcjuP22JT"
      },
      "source": [
        "model = GraphBasedOrderingNetwork(MLPclassifier4graph, num_iterations=1, initial_self_coef=1, threshold=0.1)"
      ],
      "execution_count": null,
      "outputs": []
    },
    {
      "cell_type": "code",
      "metadata": {
        "id": "5OzMRiNuRq9i"
      },
      "source": [
        "optimizer = torch.optim.Adam([{'params': model.parameters()}], \n",
        "                               lr = 1e-3)\n",
        "criterion = torch.nn.BCELoss()"
      ],
      "execution_count": null,
      "outputs": []
    },
    {
      "cell_type": "code",
      "metadata": {
        "id": "qWftU9UbUEYS"
      },
      "source": [
        "BOOK_PATHS_DIRECTORY = os.path.join('Quest_data', 'book_paths')\n",
        "ONLINE_PATHS_DIRECTORY = os.path.join('Quest_data', 'random_paths')\n"
      ],
      "execution_count": null,
      "outputs": []
    },
    {
      "cell_type": "code",
      "metadata": {
        "id": "qgMnSX5VUDz2"
      },
      "source": [
        "\n",
        "dev_online_paths, test_online_paths = train_test_split(os.listdir(ONLINE_PATHS_DIRECTORY), random_state=42, test_size=0.4)\n",
        "\n",
        "all_dev_paths = [('book', book_paths_file) for book_paths_file in os.listdir(BOOK_PATHS_DIRECTORY)] + [('online', online_paths_file) for online_paths_file in dev_online_paths]\n",
        "\n",
        "train_paths, valid_paths = train_test_split(all_dev_paths, random_state=42, test_size=0.1)"
      ],
      "execution_count": null,
      "outputs": []
    },
    {
      "cell_type": "code",
      "metadata": {
        "id": "kEKyORKB1KYk"
      },
      "source": [
        "def correct_path(path, graph, text_key):\n",
        "    nodes = G.nodes()\n",
        "    return [node_id for node_id in path if text_key in nodes[node_id] and isinstance(nodes[node_id][text_key], str)]"
      ],
      "execution_count": null,
      "outputs": []
    },
    {
      "cell_type": "code",
      "metadata": {
        "id": "NvbKw3o96v_A",
        "colab": {
          "base_uri": "https://localhost:8080/"
        },
        "outputId": "00cfc3d0-b2ae-49e2-a2b6-2e14878e4c4a"
      },
      "source": [
        "model.training"
      ],
      "execution_count": null,
      "outputs": [
        {
          "output_type": "execute_result",
          "data": {
            "text/plain": [
              "True"
            ]
          },
          "metadata": {
            "tags": []
          },
          "execution_count": 44
        }
      ]
    },
    {
      "cell_type": "code",
      "metadata": {
        "id": "kp178khKuX50"
      },
      "source": [
        "num_samples = 0\n",
        "for quest_type, file_name in tqdm(train_paths[3:]):\n",
        "    text_key = 'fragment_text'\n",
        "    try:\n",
        "        if quest_type == 'book':\n",
        "            paths_directory = BOOK_PATHS_DIRECTORY\n",
        "            quests_directory = BOOK_GRAPHS_DIRECTORY\n",
        "        else:\n",
        "            paths_directory = ONLINE_PATHS_DIRECTORY\n",
        "            quests_directory = ONLINE_GRAPHS_DIRECTORY\n",
        "\n",
        "        with open(os.path.join(paths_directory, file_name), encoding='utf-8') as f:\n",
        "            paths = json.load(f)\n",
        "\n",
        "        with open(os.path.join(quests_directory,  file_name), encoding='utf-8') as f:\n",
        "            G = json_graph.node_link_graph(json.load(f))\n",
        "        \n",
        "        for path in paths:\n",
        "            corrected_path = correct_path(path, G, text_key)\n",
        "            if len(corrected_path) > 3:\n",
        "                predicted = model(G, corrected_path)[1:, :-1].clone().cpu()\n",
        "                correct = torch.eye(predicted.shape[0])\n",
        "                loss = criterion(predicted, correct)\n",
        "                loss.backward()\n",
        "                num_samples += 1\n",
        "                if num_samples % 10 == 0:\n",
        "                    optimizer.step()\n",
        "                    optimizer.zero_grad()\n",
        "                if num_samples % 200 == 0:\n",
        "                    torch.save(model.state_dict(), 'construted_graph_model.pth')\n",
        "    #if some graph files are deleted, but random paths exist\n",
        "    except FileNotFoundError:\n",
        "        pass"
      ],
      "execution_count": null,
      "outputs": []
    },
    {
      "cell_type": "code",
      "metadata": {
        "colab": {
          "base_uri": "https://localhost:8080/"
        },
        "id": "ZQ9-6_PSAvlY",
        "outputId": "0362a751-469e-4d5f-9737-783a74de1df9"
      },
      "source": [
        "model.load_state_dict(torch.load('construted_graph_model.pth'))"
      ],
      "execution_count": null,
      "outputs": [
        {
          "output_type": "execute_result",
          "data": {
            "text/plain": [
              "<All keys matched successfully>"
            ]
          },
          "metadata": {
            "tags": []
          },
          "execution_count": 94
        }
      ]
    },
    {
      "cell_type": "code",
      "metadata": {
        "id": "yzpt8hvHafKF"
      },
      "source": [
        ""
      ],
      "execution_count": null,
      "outputs": []
    },
    {
      "cell_type": "code",
      "metadata": {
        "id": "PCFr9xXC6-Xa",
        "colab": {
          "base_uri": "https://localhost:8080/"
        },
        "outputId": "8a87355f-5aba-4993-80c6-5e6caea78129"
      },
      "source": [
        "predictions = []\n",
        "num_samples = 0\n",
        "for file_name in tqdm(test_online_paths):\n",
        "    try:\n",
        "        paths_directory = ONLINE_PATHS_DIRECTORY\n",
        "        quests_directory = ONLINE_GRAPHS_DIRECTORY\n",
        "        text_key = 'fragment_text'\n",
        "\n",
        "        with open(os.path.join(paths_directory, file_name), encoding='utf-8') as f:\n",
        "            paths = json.load(f)\n",
        "\n",
        "        with open(os.path.join(quests_directory,  file_name), encoding='utf-8') as f:\n",
        "            G = json_graph.node_link_graph(json.load(f))\n",
        "\n",
        "\n",
        "        with torch.no_grad(): \n",
        "            for path in paths:\n",
        "                corrected_path = correct_path(path, G, text_key)\n",
        "                if len(corrected_path) > 3:\n",
        "                    predicted = model(G, corrected_path).tolist()\n",
        "                    predictions.append(predicted)\n",
        "                    num_samples += 1\n",
        "                if num_samples % 200 == 0:\n",
        "                    with open('BERT_graph_predictions.json', 'w', encoding = 'utf-8') as f:\n",
        "                        json.dump(predictions, f)\n",
        "    #if some graph files are deleted, but random paths exist\n",
        "    except FileNotFoundError:\n",
        "        pass"
      ],
      "execution_count": null,
      "outputs": [
        {
          "output_type": "stream",
          "text": [
            "\n",
            "  0%|          | 0/76 [00:00<?, ?it/s]\u001b[A\n",
            "  1%|▏         | 1/76 [00:02<03:11,  2.55s/it]\u001b[A\n",
            "  3%|▎         | 2/76 [07:58<2:58:20, 144.60s/it]\u001b[A\n",
            "  4%|▍         | 3/76 [08:21<2:11:23, 108.00s/it]\u001b[A\n",
            "  5%|▌         | 4/76 [08:42<1:38:25, 82.02s/it] \u001b[A\n",
            "  7%|▋         | 5/76 [08:44<1:08:44, 58.08s/it]\u001b[A\n",
            "  8%|▊         | 6/76 [08:57<51:50, 44.43s/it]  \u001b[A\n",
            "  9%|▉         | 7/76 [09:00<36:50, 32.04s/it]\u001b[A\n",
            " 11%|█         | 8/76 [09:20<32:14, 28.44s/it]\u001b[A\n",
            " 13%|█▎        | 10/76 [09:24<22:37, 20.56s/it]\u001b[A\n",
            " 14%|█▍        | 11/76 [09:33<18:24, 16.99s/it]\u001b[A\n",
            " 16%|█▌        | 12/76 [09:40<14:49, 13.90s/it]\u001b[A\n",
            " 17%|█▋        | 13/76 [09:51<13:38, 12.99s/it]\u001b[A\n",
            " 18%|█▊        | 14/76 [09:52<09:45,  9.44s/it]\u001b[A\n",
            " 20%|█▉        | 15/76 [15:56<1:57:46, 115.85s/it]\u001b[A\n",
            " 21%|██        | 16/76 [18:42<2:11:03, 131.06s/it]\u001b[A\n",
            " 22%|██▏       | 17/76 [18:56<1:34:13, 95.83s/it] \u001b[A\n",
            " 24%|██▎       | 18/76 [18:58<1:05:23, 67.65s/it]\u001b[A\n",
            " 25%|██▌       | 19/76 [19:04<46:48, 49.28s/it]  \u001b[A\n",
            " 26%|██▋       | 20/76 [19:11<33:59, 36.42s/it]\u001b[A\n",
            " 28%|██▊       | 21/76 [19:26<27:31, 30.03s/it]\u001b[A\n",
            " 29%|██▉       | 22/76 [20:04<29:03, 32.29s/it]\u001b[A\n",
            " 30%|███       | 23/76 [20:11<21:53, 24.77s/it]\u001b[A\n",
            " 33%|███▎      | 25/76 [20:11<14:46, 17.39s/it]\u001b[A\n",
            " 36%|███▌      | 27/76 [20:16<10:30, 12.87s/it]\u001b[A\n",
            " 38%|███▊      | 29/76 [20:22<07:45,  9.90s/it]\u001b[A\n",
            " 39%|███▉      | 30/76 [20:23<05:40,  7.40s/it]\u001b[A\n",
            " 41%|████      | 31/76 [20:24<03:57,  5.28s/it]\u001b[A\n",
            " 42%|████▏     | 32/76 [20:33<04:41,  6.41s/it]\u001b[A\n",
            " 43%|████▎     | 33/76 [20:46<06:07,  8.54s/it]\u001b[A\n",
            " 47%|████▋     | 36/76 [20:54<04:29,  6.74s/it]\u001b[A\n",
            " 49%|████▊     | 37/76 [20:54<03:05,  4.76s/it]\u001b[A\n",
            " 50%|█████     | 38/76 [20:54<02:12,  3.49s/it]\u001b[A\n",
            " 51%|█████▏    | 39/76 [20:55<01:39,  2.68s/it]\u001b[A\n",
            " 53%|█████▎    | 40/76 [20:55<01:09,  1.94s/it]\u001b[A\n",
            " 54%|█████▍    | 41/76 [21:03<02:07,  3.63s/it]\u001b[A\n",
            " 55%|█████▌    | 42/76 [21:14<03:18,  5.84s/it]\u001b[A\n",
            " 58%|█████▊    | 44/76 [21:16<02:18,  4.34s/it]\u001b[A\n",
            " 59%|█████▉    | 45/76 [47:50<4:08:43, 481.41s/it]\u001b[A\n",
            " 62%|██████▏   | 47/76 [47:50<2:42:52, 337.00s/it]\u001b[A\n",
            " 63%|██████▎   | 48/76 [48:40<1:57:02, 250.82s/it]\u001b[A\n",
            " 64%|██████▍   | 49/76 [51:40<1:43:14, 229.44s/it]\u001b[A\n",
            " 66%|██████▌   | 50/76 [53:25<1:23:20, 192.34s/it]\u001b[A\n",
            " 67%|██████▋   | 51/76 [53:59<1:00:17, 144.70s/it]\u001b[A\n",
            " 68%|██████▊   | 52/76 [54:32<44:27, 111.13s/it]  \u001b[A\n",
            " 70%|██████▉   | 53/76 [54:47<31:38, 82.53s/it] \u001b[A\n",
            " 71%|███████   | 54/76 [55:09<23:34, 64.28s/it]\u001b[A\n",
            " 72%|███████▏  | 55/76 [55:21<17:00, 48.58s/it]\u001b[A\n",
            " 74%|███████▎  | 56/76 [55:25<11:46, 35.31s/it]\u001b[A\n",
            " 75%|███████▌  | 57/76 [55:31<08:18, 26.24s/it]\u001b[A\n",
            " 76%|███████▋  | 58/76 [56:12<09:15, 30.85s/it]\u001b[A\n",
            " 78%|███████▊  | 59/76 [56:29<07:31, 26.59s/it]\u001b[A\n",
            " 79%|███████▉  | 60/76 [56:37<05:35, 20.96s/it]\u001b[A\n",
            " 80%|████████  | 61/76 [57:17<06:43, 26.91s/it]\u001b[A\n",
            " 83%|████████▎ | 63/76 [57:25<04:19, 19.94s/it]\u001b[A\n",
            " 84%|████████▍ | 64/76 [57:25<02:48, 14.02s/it]\u001b[A\n",
            " 86%|████████▌ | 65/76 [57:42<02:43, 14.86s/it]\u001b[A\n",
            " 91%|█████████ | 69/76 [57:47<01:15, 10.76s/it]\u001b[A\n",
            " 92%|█████████▏| 70/76 [57:48<00:46,  7.81s/it]\u001b[A\n",
            " 95%|█████████▍| 72/76 [57:48<00:21,  5.48s/it]\u001b[A\n",
            " 96%|█████████▌| 73/76 [57:51<00:14,  4.88s/it]\u001b[A\n",
            " 97%|█████████▋| 74/76 [58:07<00:16,  8.05s/it]\u001b[A\n",
            " 99%|█████████▊| 75/76 [58:12<00:07,  7.13s/it]\u001b[A\n",
            "100%|██████████| 76/76 [59:07<00:00, 46.68s/it]\n"
          ],
          "name": "stderr"
        }
      ]
    },
    {
      "cell_type": "code",
      "metadata": {
        "id": "St026YOcMmLJ"
      },
      "source": [
        "with open('BERT_graph_predictions.json') as f:\n",
        "    predictions = json.load(f)"
      ],
      "execution_count": null,
      "outputs": []
    },
    {
      "cell_type": "code",
      "metadata": {
        "colab": {
          "base_uri": "https://localhost:8080/"
        },
        "id": "aR-eAFZdr_2j",
        "outputId": "5c5726e4-b9eb-45e4-d801-32ab30893aae"
      },
      "source": [
        "[1,2,3].index(max([1,2,3]))"
      ],
      "execution_count": null,
      "outputs": [
        {
          "output_type": "execute_result",
          "data": {
            "text/plain": [
              "2"
            ]
          },
          "metadata": {
            "tags": []
          },
          "execution_count": 21
        }
      ]
    },
    {
      "cell_type": "code",
      "metadata": {
        "id": "HXz1IozGqT9s"
      },
      "source": [
        "def transitions_table_beam_search(transition_table, num_candidates = 3):\n",
        "    best_order_candidates = [{'order':[0], 'probability':1}]\n",
        "    for i in range(len(transition_table)-1):\n",
        "        next_step_order_candidates = []\n",
        "        for best_candidate in best_order_candidates:\n",
        "            current_step_data = transition_table[best_candidate['order'][-1]]\n",
        "            candidate_current_step_probabilities = [score if i not in best_candidate['order'] else 0 for i, score in enumerate(current_step_data)]\n",
        "            for i in range(min(num_candidates, len([i for i in candidate_current_step_probabilities if i]))):\n",
        "                max_probability = max(candidate_current_step_probabilities)\n",
        "                max_probability_idx = candidate_current_step_probabilities.index(max_probability)\n",
        "                next_step_order_candidates.append({'order': best_candidate['order'] + [max_probability_idx], 'probability':  best_candidate['probability']*max_probability})\n",
        "\n",
        "        #if all unordered candidates have zero probability\n",
        "        if next_step_order_candidates:\n",
        "            next_step_order_candidates.sort(key=lambda x: x['probability'], reverse=True)\n",
        "            best_order_candidates = next_step_order_candidates[:num_candidates]\n",
        "        else:\n",
        "            break\n",
        "\n",
        "        result = best_order_candidates[0]['order']\n",
        "        #if we went out the loop before all the candidates were ordered because of zero probabilities, the last candidates will have random order\n",
        "        if len(result) < len(transition_table):\n",
        "            unordered_items = [i for i in range(len(transition_table)) if i not in result]\n",
        "            random.shuffle(unordered_items)\n",
        "            result += unordered_items\n",
        "        return result"
      ],
      "execution_count": null,
      "outputs": []
    },
    {
      "cell_type": "code",
      "metadata": {
        "id": "pp3uGKY-fipK"
      },
      "source": [
        "import torch"
      ],
      "execution_count": null,
      "outputs": []
    },
    {
      "cell_type": "code",
      "metadata": {
        "id": "_Zl2LcwcfVuB"
      },
      "source": [
        "def transitions_table_beam_search_vertical(transition_table, num_candidates = 3):\n",
        "    transition_table = torch.tensor(transition_table).t().tolist()\n",
        "    best_order_candidates = [{'order':[0], 'probability':1}]\n",
        "    for i in range(len(transition_table)-1):\n",
        "        next_step_order_candidates = []\n",
        "        for best_candidate in best_order_candidates:\n",
        "            current_step_data = transition_table[best_candidate['order'][-1]]\n",
        "            candidate_current_step_probabilities = [score if i not in best_candidate['order'] else 0 for i, score in enumerate(current_step_data)]\n",
        "            for i in range(min(num_candidates, len([i for i in candidate_current_step_probabilities if i]))):\n",
        "                max_probability = max(candidate_current_step_probabilities)\n",
        "                max_probability_idx = candidate_current_step_probabilities.index(max_probability)\n",
        "                next_step_order_candidates.append({'order': best_candidate['order'] + [max_probability_idx], 'probability':  best_candidate['probability']*max_probability})\n",
        "\n",
        "        #if all unordered candidates have zero probability\n",
        "        if next_step_order_candidates:\n",
        "            next_step_order_candidates.sort(key=lambda x: x['probability'], reverse=True)\n",
        "            best_order_candidates = next_step_order_candidates[:num_candidates]\n",
        "        else:\n",
        "            break\n",
        "\n",
        "        result = best_order_candidates[0]['order']\n",
        "        #if we went out the loop before all the candidates were ordered because of zero probabilities, the last candidates will have random order\n",
        "        if len(result) < len(transition_table):\n",
        "            unordered_items = [i for i in range(len(transition_table)) if i not in result]\n",
        "            random.shuffle(unordered_items)\n",
        "            result += unordered_items\n",
        "        return result"
      ],
      "execution_count": null,
      "outputs": []
    },
    {
      "cell_type": "code",
      "metadata": {
        "id": "SistbQIoa3TE"
      },
      "source": [
        "def scoring_transitions_table_beam_search_vertical(transition_table, num_candidates = 3, epsilon = 10**(-1)):\n",
        "    transition_table = torch.tensor(transition_table).t().tolist()\n",
        "    best_order_candidates = [{'order':[0], 'probability':0}]\n",
        "    for i in range(len(transition_table)-1):\n",
        "        next_step_order_candidates = []\n",
        "        for best_candidate in best_order_candidates:\n",
        "            current_step_data = transition_table[best_candidate['order'][-1]]\n",
        "            candidate_current_step_probabilities = [score if i not in best_candidate['order'] else 0 for i, score in enumerate(current_step_data)]\n",
        "            for i in range(min(num_candidates, len([i for i in candidate_current_step_probabilities if i]))):\n",
        "                max_probability = max(candidate_current_step_probabilities)\n",
        "                max_probability_idx = candidate_current_step_probabilities.index(max_probability)\n",
        "                score = max_probability if max_probability > 0 else epsilon\n",
        "                next_step_order_candidates.append({'order': best_candidate['order'] + [max_probability_idx], 'probability':  best_candidate['probability']+math.log(score)})\n",
        "\n",
        "        #if all unordered candidates have zero probability\n",
        "        if next_step_order_candidates:\n",
        "            next_step_order_candidates.sort(key=lambda x: x['probability'], reverse=True)\n",
        "            best_order_candidates = next_step_order_candidates[:num_candidates]\n",
        "        else:\n",
        "            break\n",
        "\n",
        "        result = best_order_candidates[0]['order']\n",
        "        #if we went out the loop before all the candidates were ordered because of zero probabilities, the last candidates will have random order\n",
        "        if len(result) < len(transition_table):\n",
        "            unordered_items = [i for i in range(len(transition_table)) if i not in result]\n",
        "            random.shuffle(unordered_items)\n",
        "            result += unordered_items\n",
        "        return {'order': result, 'score': best_order_candidates[0]['probability']}"
      ],
      "execution_count": null,
      "outputs": []
    },
    {
      "cell_type": "code",
      "metadata": {
        "id": "3NqeY1jDbx8J"
      },
      "source": [
        "def scoring_full_pipeline(texts):\n",
        "    transition_table = model(texts=texts)\n",
        "    return scoring_transitions_table_beam_search_vertical(transition_table)"
      ],
      "execution_count": null,
      "outputs": []
    },
    {
      "cell_type": "code",
      "metadata": {
        "colab": {
          "base_uri": "https://localhost:8080/"
        },
        "id": "inXV_yw2h5J6",
        "outputId": "9e667773-4d24-46a0-d1a4-0d823487a566"
      },
      "source": [
        "sanity_check_data.keys()"
      ],
      "execution_count": null,
      "outputs": [
        {
          "output_type": "execute_result",
          "data": {
            "text/plain": [
              "dict_keys(['real', 'random'])"
            ]
          },
          "metadata": {
            "tags": []
          },
          "execution_count": 69
        }
      ]
    },
    {
      "cell_type": "code",
      "metadata": {
        "id": "eGqHjGWvh79V"
      },
      "source": [
        "real_predictions = [scoring_full_pipeline(texts) for texts in sanity_check_data['real']]\n",
        "random_predictions = [scoring_full_pipeline(texts) for texts in sanity_check_data['random']]"
      ],
      "execution_count": null,
      "outputs": []
    },
    {
      "cell_type": "code",
      "metadata": {
        "colab": {
          "base_uri": "https://localhost:8080/"
        },
        "id": "Qj8ep-99jHOM",
        "outputId": "4c7dfe80-9020-4be7-c3df-59223323935d"
      },
      "source": [
        "real_predictions"
      ],
      "execution_count": null,
      "outputs": [
        {
          "output_type": "execute_result",
          "data": {
            "text/plain": [
              "[{'order': [0, 2, 5, 8, 4, 7, 6, 1, 3], 'score': -2.4194957613008907},\n",
              " {'order': [0, 1, 3, 2], 'score': -2.474313748937901},\n",
              " {'order': [0, 17, 8, 10, 16, 9, 7, 5, 12, 6, 1, 2, 14, 3, 13, 15, 11, 4],\n",
              "  'score': -2.5942340231430383},\n",
              " {'order': [0, 4, 2, 3, 7, 8, 5, 6, 9, 1], 'score': -2.6592002169460476},\n",
              " {'order': [0, 12, 13, 1, 7, 9, 18, 2, 16, 15, 5, 4, 8, 11, 10, 17, 6, 3, 14],\n",
              "  'score': -1.8909375306996838}]"
            ]
          },
          "metadata": {
            "tags": []
          },
          "execution_count": 96
        }
      ]
    },
    {
      "cell_type": "code",
      "metadata": {
        "colab": {
          "base_uri": "https://localhost:8080/"
        },
        "id": "i5Sf0wJ3tYMi",
        "outputId": "127f950d-2eea-4070-fca5-265ae7ad69ff"
      },
      "source": [
        "statistics.mean([sample['score'] for sample in real_predictions])"
      ],
      "execution_count": null,
      "outputs": [
        {
          "output_type": "execute_result",
          "data": {
            "text/plain": [
              "-2.4076362562055125"
            ]
          },
          "metadata": {
            "tags": []
          },
          "execution_count": 97
        }
      ]
    },
    {
      "cell_type": "code",
      "metadata": {
        "id": "37uDrrqqtl5v",
        "colab": {
          "base_uri": "https://localhost:8080/"
        },
        "outputId": "631263f7-ecfc-4169-8214-2157363d5cc0"
      },
      "source": [
        "statistics.mean([sample['score'] for sample in random_predictions])"
      ],
      "execution_count": null,
      "outputs": [
        {
          "output_type": "execute_result",
          "data": {
            "text/plain": [
              "-193.81721110523338"
            ]
          },
          "metadata": {
            "tags": []
          },
          "execution_count": 98
        }
      ]
    },
    {
      "cell_type": "code",
      "metadata": {
        "id": "-dvNrOET72Z0"
      },
      "source": [
        "from scipy.stats import kendalltau\n",
        "import pandas as pd\n",
        "\n",
        "def longest_correct_subsequence(predicted, correct):\n",
        "    correct_transitions = set([(item_from, item_to) for item_from, item_to in zip(correct[:-1], correct[1:])])\n",
        "    predicted_transitions = [(item_from, item_to) for item_from, item_to in zip(predicted[:-1], predicted[1:])]\n",
        "    predicted_transitions_are_correct = [transition in correct_transitions for transition in predicted_transitions]\n",
        "    \n",
        "    longest_correct_transitions_subsequence = 0\n",
        "    current_correct_transitions_subsequence = 0\n",
        "    #Add False as last item to include last real item checking into the loop\n",
        "    for predicted_transition_is_correct in predicted_transitions_are_correct + [False]:\n",
        "        if predicted_transition_is_correct:\n",
        "            current_correct_transitions_subsequence += 1\n",
        "        else:\n",
        "            if current_correct_transitions_subsequence > longest_correct_transitions_subsequence:\n",
        "                longest_correct_transitions_subsequence = current_correct_transitions_subsequence\n",
        "            current_correct_transitions_subsequence = 0\n",
        "    #return number of items in longest correct sequence (not number of transitions)\n",
        "    return longest_correct_transitions_subsequence + 1 if longest_correct_transitions_subsequence else 0  "
      ],
      "execution_count": null,
      "outputs": []
    },
    {
      "cell_type": "code",
      "metadata": {
        "id": "F5JYVTOn8dVE"
      },
      "source": [
        "bert_graph_df = pd.DataFrame(columns=['length', \"Kendall's tau\", \"longest subsequence\"])\n",
        "\n",
        "for transition_table in predictions:\n",
        "    predicted_order = transitions_table_beam_search(transition_table)\n",
        "    correct_order = [i for i in range(len(predicted_order))]\n",
        "    tau = kendalltau(predicted_order[1:], correct_order[1:]).correlation\n",
        "    longest_subsequence = longest_correct_subsequence(predicted_order, correct_order)\n",
        "\n",
        "    bert_graph_df.loc[len(bert_graph_df)] = [len(predicted_order), tau, longest_subsequence]"
      ],
      "execution_count": null,
      "outputs": []
    },
    {
      "cell_type": "code",
      "metadata": {
        "colab": {
          "base_uri": "https://localhost:8080/",
          "height": 388
        },
        "id": "VFcWLbi7DcKD",
        "outputId": "12858c75-4802-494c-f2db-d6ba04de53ac"
      },
      "source": [
        "bert_graph_df"
      ],
      "execution_count": null,
      "outputs": [
        {
          "output_type": "execute_result",
          "data": {
            "text/html": [
              "<div>\n",
              "<style scoped>\n",
              "    .dataframe tbody tr th:only-of-type {\n",
              "        vertical-align: middle;\n",
              "    }\n",
              "\n",
              "    .dataframe tbody tr th {\n",
              "        vertical-align: top;\n",
              "    }\n",
              "\n",
              "    .dataframe thead th {\n",
              "        text-align: right;\n",
              "    }\n",
              "</style>\n",
              "<table border=\"1\" class=\"dataframe\">\n",
              "  <thead>\n",
              "    <tr style=\"text-align: right;\">\n",
              "      <th></th>\n",
              "      <th>length</th>\n",
              "      <th>Kendall's tau</th>\n",
              "      <th>longest subsequence</th>\n",
              "    </tr>\n",
              "  </thead>\n",
              "  <tbody>\n",
              "    <tr>\n",
              "      <th>0</th>\n",
              "      <td>7.0</td>\n",
              "      <td>0.200000</td>\n",
              "      <td>3.0</td>\n",
              "    </tr>\n",
              "    <tr>\n",
              "      <th>1</th>\n",
              "      <td>9.0</td>\n",
              "      <td>-0.642857</td>\n",
              "      <td>0.0</td>\n",
              "    </tr>\n",
              "    <tr>\n",
              "      <th>2</th>\n",
              "      <td>10.0</td>\n",
              "      <td>0.111111</td>\n",
              "      <td>2.0</td>\n",
              "    </tr>\n",
              "    <tr>\n",
              "      <th>3</th>\n",
              "      <td>9.0</td>\n",
              "      <td>0.428571</td>\n",
              "      <td>2.0</td>\n",
              "    </tr>\n",
              "    <tr>\n",
              "      <th>4</th>\n",
              "      <td>7.0</td>\n",
              "      <td>0.066667</td>\n",
              "      <td>0.0</td>\n",
              "    </tr>\n",
              "    <tr>\n",
              "      <th>...</th>\n",
              "      <td>...</td>\n",
              "      <td>...</td>\n",
              "      <td>...</td>\n",
              "    </tr>\n",
              "    <tr>\n",
              "      <th>3195</th>\n",
              "      <td>6.0</td>\n",
              "      <td>0.200000</td>\n",
              "      <td>0.0</td>\n",
              "    </tr>\n",
              "    <tr>\n",
              "      <th>3196</th>\n",
              "      <td>6.0</td>\n",
              "      <td>-0.200000</td>\n",
              "      <td>0.0</td>\n",
              "    </tr>\n",
              "    <tr>\n",
              "      <th>3197</th>\n",
              "      <td>6.0</td>\n",
              "      <td>0.200000</td>\n",
              "      <td>0.0</td>\n",
              "    </tr>\n",
              "    <tr>\n",
              "      <th>3198</th>\n",
              "      <td>4.0</td>\n",
              "      <td>-0.333333</td>\n",
              "      <td>2.0</td>\n",
              "    </tr>\n",
              "    <tr>\n",
              "      <th>3199</th>\n",
              "      <td>6.0</td>\n",
              "      <td>0.200000</td>\n",
              "      <td>2.0</td>\n",
              "    </tr>\n",
              "  </tbody>\n",
              "</table>\n",
              "<p>3200 rows × 3 columns</p>\n",
              "</div>"
            ],
            "text/plain": [
              "      length  Kendall's tau  longest subsequence\n",
              "0        7.0       0.200000                  3.0\n",
              "1        9.0      -0.642857                  0.0\n",
              "2       10.0       0.111111                  2.0\n",
              "3        9.0       0.428571                  2.0\n",
              "4        7.0       0.066667                  0.0\n",
              "...      ...            ...                  ...\n",
              "3195     6.0       0.200000                  0.0\n",
              "3196     6.0      -0.200000                  0.0\n",
              "3197     6.0       0.200000                  0.0\n",
              "3198     4.0      -0.333333                  2.0\n",
              "3199     6.0       0.200000                  2.0\n",
              "\n",
              "[3200 rows x 3 columns]"
            ]
          },
          "metadata": {
            "tags": []
          },
          "execution_count": 84
        }
      ]
    },
    {
      "cell_type": "code",
      "metadata": {
        "id": "2OPy1WIBEuma"
      },
      "source": [
        "latex_plain_text = bert_graph_aggr.to_latex()\n",
        "with open('latex_draft.txt', 'w') as f:\n",
        "    f.write(latex_plain_text)"
      ],
      "execution_count": null,
      "outputs": []
    },
    {
      "cell_type": "code",
      "metadata": {
        "colab": {
          "base_uri": "https://localhost:8080/",
          "height": 16
        },
        "id": "u56sq56NLYKQ",
        "outputId": "2b844d57-d717-4289-d2a9-b123858889e3"
      },
      "source": [
        "from google.colab import files\n",
        "files.download('latex_draft.txt')"
      ],
      "execution_count": null,
      "outputs": [
        {
          "output_type": "display_data",
          "data": {
            "application/javascript": [
              "\n",
              "    async function download(id, filename, size) {\n",
              "      if (!google.colab.kernel.accessAllowed) {\n",
              "        return;\n",
              "      }\n",
              "      const div = document.createElement('div');\n",
              "      const label = document.createElement('label');\n",
              "      label.textContent = `Downloading \"${filename}\": `;\n",
              "      div.appendChild(label);\n",
              "      const progress = document.createElement('progress');\n",
              "      progress.max = size;\n",
              "      div.appendChild(progress);\n",
              "      document.body.appendChild(div);\n",
              "\n",
              "      const buffers = [];\n",
              "      let downloaded = 0;\n",
              "\n",
              "      const channel = await google.colab.kernel.comms.open(id);\n",
              "      // Send a message to notify the kernel that we're ready.\n",
              "      channel.send({})\n",
              "\n",
              "      for await (const message of channel.messages) {\n",
              "        // Send a message to notify the kernel that we're ready.\n",
              "        channel.send({})\n",
              "        if (message.buffers) {\n",
              "          for (const buffer of message.buffers) {\n",
              "            buffers.push(buffer);\n",
              "            downloaded += buffer.byteLength;\n",
              "            progress.value = downloaded;\n",
              "          }\n",
              "        }\n",
              "      }\n",
              "      const blob = new Blob(buffers, {type: 'application/binary'});\n",
              "      const a = document.createElement('a');\n",
              "      a.href = window.URL.createObjectURL(blob);\n",
              "      a.download = filename;\n",
              "      div.appendChild(a);\n",
              "      a.click();\n",
              "      div.remove();\n",
              "    }\n",
              "  "
            ],
            "text/plain": [
              "<IPython.core.display.Javascript object>"
            ]
          },
          "metadata": {
            "tags": []
          }
        },
        {
          "output_type": "display_data",
          "data": {
            "application/javascript": [
              "download(\"download_8e3dd8bc-c04d-4ca6-a8b9-e6ee1e23f3d3\", \"latex_draft.txt\", 1926)"
            ],
            "text/plain": [
              "<IPython.core.display.Javascript object>"
            ]
          },
          "metadata": {
            "tags": []
          }
        }
      ]
    },
    {
      "cell_type": "code",
      "metadata": {
        "id": "oYfH-krbfm8S"
      },
      "source": [
        "bert_graph_df = pd.DataFrame(columns=['length', \"Kendall's tau\", \"longest subsequence\"])\n",
        "\n",
        "for transition_table in predictions:\n",
        "    predicted_order = transitions_table_beam_search_vertical(transition_table)\n",
        "    correct_order = [i for i in range(len(predicted_order))]\n",
        "    tau = kendalltau(predicted_order[1:], correct_order[1:]).correlation\n",
        "    longest_subsequence = longest_correct_subsequence(predicted_order, correct_order)\n",
        "\n",
        "    bert_graph_df.loc[len(bert_graph_df)] = [len(predicted_order), tau, longest_subsequence]"
      ],
      "execution_count": null,
      "outputs": []
    },
    {
      "cell_type": "code",
      "metadata": {
        "colab": {
          "base_uri": "https://localhost:8080/",
          "height": 901
        },
        "id": "Av6tcy3Jfr0x",
        "outputId": "ab62ff7a-fdca-4179-f10d-94d17da08321"
      },
      "source": [
        "bert_graph_aggr = bert_graph_df[bert_graph_df[\"length\"]<=30].groupby(\"length\").describe()[[(\"Kendall's tau\", 'count'), (\"Kendall's tau\",  'mean'), ('longest subsequence',  'mean')]]\n",
        "bert_graph_aggr"
      ],
      "execution_count": null,
      "outputs": [
        {
          "output_type": "execute_result",
          "data": {
            "text/html": [
              "<div>\n",
              "<style scoped>\n",
              "    .dataframe tbody tr th:only-of-type {\n",
              "        vertical-align: middle;\n",
              "    }\n",
              "\n",
              "    .dataframe tbody tr th {\n",
              "        vertical-align: top;\n",
              "    }\n",
              "\n",
              "    .dataframe thead tr th {\n",
              "        text-align: left;\n",
              "    }\n",
              "\n",
              "    .dataframe thead tr:last-of-type th {\n",
              "        text-align: right;\n",
              "    }\n",
              "</style>\n",
              "<table border=\"1\" class=\"dataframe\">\n",
              "  <thead>\n",
              "    <tr>\n",
              "      <th></th>\n",
              "      <th colspan=\"2\" halign=\"left\">Kendall's tau</th>\n",
              "      <th>longest subsequence</th>\n",
              "    </tr>\n",
              "    <tr>\n",
              "      <th></th>\n",
              "      <th>count</th>\n",
              "      <th>mean</th>\n",
              "      <th>mean</th>\n",
              "    </tr>\n",
              "    <tr>\n",
              "      <th>length</th>\n",
              "      <th></th>\n",
              "      <th></th>\n",
              "      <th></th>\n",
              "    </tr>\n",
              "  </thead>\n",
              "  <tbody>\n",
              "    <tr>\n",
              "      <th>3.0</th>\n",
              "      <td>44.0</td>\n",
              "      <td>-0.363636</td>\n",
              "      <td>0.954545</td>\n",
              "    </tr>\n",
              "    <tr>\n",
              "      <th>4.0</th>\n",
              "      <td>65.0</td>\n",
              "      <td>-0.292308</td>\n",
              "      <td>1.200000</td>\n",
              "    </tr>\n",
              "    <tr>\n",
              "      <th>5.0</th>\n",
              "      <td>53.0</td>\n",
              "      <td>-0.062893</td>\n",
              "      <td>1.075472</td>\n",
              "    </tr>\n",
              "    <tr>\n",
              "      <th>6.0</th>\n",
              "      <td>100.0</td>\n",
              "      <td>-0.070000</td>\n",
              "      <td>1.390000</td>\n",
              "    </tr>\n",
              "    <tr>\n",
              "      <th>7.0</th>\n",
              "      <td>107.0</td>\n",
              "      <td>-0.079128</td>\n",
              "      <td>1.224299</td>\n",
              "    </tr>\n",
              "    <tr>\n",
              "      <th>8.0</th>\n",
              "      <td>92.0</td>\n",
              "      <td>-0.043478</td>\n",
              "      <td>1.434783</td>\n",
              "    </tr>\n",
              "    <tr>\n",
              "      <th>9.0</th>\n",
              "      <td>166.0</td>\n",
              "      <td>0.009897</td>\n",
              "      <td>1.445783</td>\n",
              "    </tr>\n",
              "    <tr>\n",
              "      <th>10.0</th>\n",
              "      <td>192.0</td>\n",
              "      <td>-0.000289</td>\n",
              "      <td>1.239583</td>\n",
              "    </tr>\n",
              "    <tr>\n",
              "      <th>11.0</th>\n",
              "      <td>188.0</td>\n",
              "      <td>-0.019149</td>\n",
              "      <td>1.393617</td>\n",
              "    </tr>\n",
              "    <tr>\n",
              "      <th>12.0</th>\n",
              "      <td>174.0</td>\n",
              "      <td>0.017555</td>\n",
              "      <td>1.477011</td>\n",
              "    </tr>\n",
              "    <tr>\n",
              "      <th>13.0</th>\n",
              "      <td>159.0</td>\n",
              "      <td>-0.020011</td>\n",
              "      <td>1.389937</td>\n",
              "    </tr>\n",
              "    <tr>\n",
              "      <th>14.0</th>\n",
              "      <td>155.0</td>\n",
              "      <td>0.023656</td>\n",
              "      <td>1.232258</td>\n",
              "    </tr>\n",
              "    <tr>\n",
              "      <th>15.0</th>\n",
              "      <td>144.0</td>\n",
              "      <td>0.008394</td>\n",
              "      <td>1.444444</td>\n",
              "    </tr>\n",
              "    <tr>\n",
              "      <th>16.0</th>\n",
              "      <td>108.0</td>\n",
              "      <td>-0.035273</td>\n",
              "      <td>1.370370</td>\n",
              "    </tr>\n",
              "    <tr>\n",
              "      <th>17.0</th>\n",
              "      <td>82.0</td>\n",
              "      <td>0.028659</td>\n",
              "      <td>1.365854</td>\n",
              "    </tr>\n",
              "    <tr>\n",
              "      <th>18.0</th>\n",
              "      <td>75.0</td>\n",
              "      <td>-0.010588</td>\n",
              "      <td>1.186667</td>\n",
              "    </tr>\n",
              "    <tr>\n",
              "      <th>19.0</th>\n",
              "      <td>74.0</td>\n",
              "      <td>-0.003003</td>\n",
              "      <td>1.310811</td>\n",
              "    </tr>\n",
              "    <tr>\n",
              "      <th>20.0</th>\n",
              "      <td>61.0</td>\n",
              "      <td>-0.048797</td>\n",
              "      <td>1.163934</td>\n",
              "    </tr>\n",
              "    <tr>\n",
              "      <th>21.0</th>\n",
              "      <td>69.0</td>\n",
              "      <td>-0.037986</td>\n",
              "      <td>1.492754</td>\n",
              "    </tr>\n",
              "    <tr>\n",
              "      <th>22.0</th>\n",
              "      <td>77.0</td>\n",
              "      <td>-0.011750</td>\n",
              "      <td>1.155844</td>\n",
              "    </tr>\n",
              "    <tr>\n",
              "      <th>23.0</th>\n",
              "      <td>57.0</td>\n",
              "      <td>0.006759</td>\n",
              "      <td>1.280702</td>\n",
              "    </tr>\n",
              "    <tr>\n",
              "      <th>24.0</th>\n",
              "      <td>47.0</td>\n",
              "      <td>-0.003953</td>\n",
              "      <td>1.148936</td>\n",
              "    </tr>\n",
              "    <tr>\n",
              "      <th>25.0</th>\n",
              "      <td>57.0</td>\n",
              "      <td>-0.024663</td>\n",
              "      <td>1.385965</td>\n",
              "    </tr>\n",
              "    <tr>\n",
              "      <th>26.0</th>\n",
              "      <td>35.0</td>\n",
              "      <td>0.000762</td>\n",
              "      <td>1.371429</td>\n",
              "    </tr>\n",
              "    <tr>\n",
              "      <th>27.0</th>\n",
              "      <td>42.0</td>\n",
              "      <td>-0.028425</td>\n",
              "      <td>1.047619</td>\n",
              "    </tr>\n",
              "    <tr>\n",
              "      <th>28.0</th>\n",
              "      <td>37.0</td>\n",
              "      <td>-0.016709</td>\n",
              "      <td>1.297297</td>\n",
              "    </tr>\n",
              "    <tr>\n",
              "      <th>29.0</th>\n",
              "      <td>62.0</td>\n",
              "      <td>0.015788</td>\n",
              "      <td>1.338710</td>\n",
              "    </tr>\n",
              "    <tr>\n",
              "      <th>30.0</th>\n",
              "      <td>43.0</td>\n",
              "      <td>-0.006186</td>\n",
              "      <td>1.162791</td>\n",
              "    </tr>\n",
              "  </tbody>\n",
              "</table>\n",
              "</div>"
            ],
            "text/plain": [
              "       Kendall's tau           longest subsequence\n",
              "               count      mean                mean\n",
              "length                                            \n",
              "3.0             44.0 -0.363636            0.954545\n",
              "4.0             65.0 -0.292308            1.200000\n",
              "5.0             53.0 -0.062893            1.075472\n",
              "6.0            100.0 -0.070000            1.390000\n",
              "7.0            107.0 -0.079128            1.224299\n",
              "8.0             92.0 -0.043478            1.434783\n",
              "9.0            166.0  0.009897            1.445783\n",
              "10.0           192.0 -0.000289            1.239583\n",
              "11.0           188.0 -0.019149            1.393617\n",
              "12.0           174.0  0.017555            1.477011\n",
              "13.0           159.0 -0.020011            1.389937\n",
              "14.0           155.0  0.023656            1.232258\n",
              "15.0           144.0  0.008394            1.444444\n",
              "16.0           108.0 -0.035273            1.370370\n",
              "17.0            82.0  0.028659            1.365854\n",
              "18.0            75.0 -0.010588            1.186667\n",
              "19.0            74.0 -0.003003            1.310811\n",
              "20.0            61.0 -0.048797            1.163934\n",
              "21.0            69.0 -0.037986            1.492754\n",
              "22.0            77.0 -0.011750            1.155844\n",
              "23.0            57.0  0.006759            1.280702\n",
              "24.0            47.0 -0.003953            1.148936\n",
              "25.0            57.0 -0.024663            1.385965\n",
              "26.0            35.0  0.000762            1.371429\n",
              "27.0            42.0 -0.028425            1.047619\n",
              "28.0            37.0 -0.016709            1.297297\n",
              "29.0            62.0  0.015788            1.338710\n",
              "30.0            43.0 -0.006186            1.162791"
            ]
          },
          "metadata": {
            "tags": []
          },
          "execution_count": 100
        }
      ]
    },
    {
      "cell_type": "code",
      "metadata": {
        "id": "4dp72qO5f4RD"
      },
      "source": [
        "latex_plain_text = bert_graph_aggr.to_latex()\n",
        "with open('latex_draft.txt', 'w') as f:\n",
        "    f.write(latex_plain_text)"
      ],
      "execution_count": null,
      "outputs": []
    },
    {
      "cell_type": "code",
      "metadata": {
        "colab": {
          "base_uri": "https://localhost:8080/",
          "height": 16
        },
        "id": "G847aozDf7Em",
        "outputId": "d8f30577-d38e-44a3-c921-4648077e3e92"
      },
      "source": [
        "from google.colab import files\n",
        "files.download('latex_draft.txt')"
      ],
      "execution_count": null,
      "outputs": [
        {
          "output_type": "display_data",
          "data": {
            "application/javascript": [
              "\n",
              "    async function download(id, filename, size) {\n",
              "      if (!google.colab.kernel.accessAllowed) {\n",
              "        return;\n",
              "      }\n",
              "      const div = document.createElement('div');\n",
              "      const label = document.createElement('label');\n",
              "      label.textContent = `Downloading \"${filename}\": `;\n",
              "      div.appendChild(label);\n",
              "      const progress = document.createElement('progress');\n",
              "      progress.max = size;\n",
              "      div.appendChild(progress);\n",
              "      document.body.appendChild(div);\n",
              "\n",
              "      const buffers = [];\n",
              "      let downloaded = 0;\n",
              "\n",
              "      const channel = await google.colab.kernel.comms.open(id);\n",
              "      // Send a message to notify the kernel that we're ready.\n",
              "      channel.send({})\n",
              "\n",
              "      for await (const message of channel.messages) {\n",
              "        // Send a message to notify the kernel that we're ready.\n",
              "        channel.send({})\n",
              "        if (message.buffers) {\n",
              "          for (const buffer of message.buffers) {\n",
              "            buffers.push(buffer);\n",
              "            downloaded += buffer.byteLength;\n",
              "            progress.value = downloaded;\n",
              "          }\n",
              "        }\n",
              "      }\n",
              "      const blob = new Blob(buffers, {type: 'application/binary'});\n",
              "      const a = document.createElement('a');\n",
              "      a.href = window.URL.createObjectURL(blob);\n",
              "      a.download = filename;\n",
              "      div.appendChild(a);\n",
              "      a.click();\n",
              "      div.remove();\n",
              "    }\n",
              "  "
            ],
            "text/plain": [
              "<IPython.core.display.Javascript object>"
            ]
          },
          "metadata": {
            "tags": []
          }
        },
        {
          "output_type": "display_data",
          "data": {
            "application/javascript": [
              "download(\"download_b309fefa-5398-47d4-9ab9-fc1933444a6c\", \"latex_draft.txt\", 1926)"
            ],
            "text/plain": [
              "<IPython.core.display.Javascript object>"
            ]
          },
          "metadata": {
            "tags": []
          }
        }
      ]
    }
  ]
}